{
 "cells": [
  {
   "cell_type": "code",
   "execution_count": 1,
   "id": "9e4c8871",
   "metadata": {},
   "outputs": [],
   "source": [
    "import pandas as pd \n",
    "df = pd.read_csv(r\"C:\\Users\\Rasulbek_Ruzmetov\\Desktop\\SML_R_Project\\Data\\Preprocessing_Data\\Data_Preprocessing.csv\")"
   ]
  },
  {
   "cell_type": "code",
   "execution_count": 2,
   "id": "73568bbe",
   "metadata": {},
   "outputs": [
    {
     "data": {
      "text/html": [
       "<div>\n",
       "<style scoped>\n",
       "    .dataframe tbody tr th:only-of-type {\n",
       "        vertical-align: middle;\n",
       "    }\n",
       "\n",
       "    .dataframe tbody tr th {\n",
       "        vertical-align: top;\n",
       "    }\n",
       "\n",
       "    .dataframe thead th {\n",
       "        text-align: right;\n",
       "    }\n",
       "</style>\n",
       "<table border=\"1\" class=\"dataframe\">\n",
       "  <thead>\n",
       "    <tr style=\"text-align: right;\">\n",
       "      <th></th>\n",
       "      <th>work_year</th>\n",
       "      <th>job_title</th>\n",
       "      <th>salary</th>\n",
       "      <th>salary_currency</th>\n",
       "      <th>salary_in_usd</th>\n",
       "      <th>employee_residence</th>\n",
       "      <th>remote_ratio</th>\n",
       "      <th>company_location</th>\n",
       "      <th>experience_level_EN</th>\n",
       "      <th>experience_level_EX</th>\n",
       "      <th>experience_level_MI</th>\n",
       "      <th>experience_level_SE</th>\n",
       "      <th>employment_type_CT</th>\n",
       "      <th>employment_type_FL</th>\n",
       "      <th>employment_type_FT</th>\n",
       "      <th>employment_type_PT</th>\n",
       "      <th>company_size_L</th>\n",
       "      <th>company_size_M</th>\n",
       "      <th>company_size_S</th>\n",
       "    </tr>\n",
       "  </thead>\n",
       "  <tbody>\n",
       "    <tr>\n",
       "      <th>0</th>\n",
       "      <td>0.533424</td>\n",
       "      <td>-0.719710</td>\n",
       "      <td>0.018352</td>\n",
       "      <td>0.220287</td>\n",
       "      <td>0.140113</td>\n",
       "      <td>0.304715</td>\n",
       "      <td>-0.542407</td>\n",
       "      <td>0.303171</td>\n",
       "      <td>-0.307153</td>\n",
       "      <td>-0.150043</td>\n",
       "      <td>-0.640438</td>\n",
       "      <td>0.814945</td>\n",
       "      <td>-0.036953</td>\n",
       "      <td>-0.018634</td>\n",
       "      <td>0.056646</td>\n",
       "      <td>-0.038599</td>\n",
       "      <td>-0.197964</td>\n",
       "      <td>0.211123</td>\n",
       "      <td>-0.070594</td>\n",
       "    </tr>\n",
       "    <tr>\n",
       "      <th>1</th>\n",
       "      <td>0.533424</td>\n",
       "      <td>-0.719710</td>\n",
       "      <td>-0.159937</td>\n",
       "      <td>0.220287</td>\n",
       "      <td>-0.418953</td>\n",
       "      <td>0.304715</td>\n",
       "      <td>-0.542407</td>\n",
       "      <td>0.303171</td>\n",
       "      <td>-0.307153</td>\n",
       "      <td>-0.150043</td>\n",
       "      <td>-0.640438</td>\n",
       "      <td>0.814945</td>\n",
       "      <td>-0.036953</td>\n",
       "      <td>-0.018634</td>\n",
       "      <td>0.056646</td>\n",
       "      <td>-0.038599</td>\n",
       "      <td>-0.197964</td>\n",
       "      <td>0.211123</td>\n",
       "      <td>-0.070594</td>\n",
       "    </tr>\n",
       "    <tr>\n",
       "      <th>2</th>\n",
       "      <td>0.533424</td>\n",
       "      <td>0.575812</td>\n",
       "      <td>-0.327013</td>\n",
       "      <td>0.220287</td>\n",
       "      <td>-0.942856</td>\n",
       "      <td>0.304715</td>\n",
       "      <td>1.860795</td>\n",
       "      <td>0.303171</td>\n",
       "      <td>-0.307153</td>\n",
       "      <td>-0.150043</td>\n",
       "      <td>1.561432</td>\n",
       "      <td>-1.227076</td>\n",
       "      <td>-0.036953</td>\n",
       "      <td>-0.018634</td>\n",
       "      <td>0.056646</td>\n",
       "      <td>-0.038599</td>\n",
       "      <td>-0.197964</td>\n",
       "      <td>0.211123</td>\n",
       "      <td>-0.070594</td>\n",
       "    </tr>\n",
       "    <tr>\n",
       "      <th>3</th>\n",
       "      <td>0.533424</td>\n",
       "      <td>0.575812</td>\n",
       "      <td>-0.478321</td>\n",
       "      <td>0.220287</td>\n",
       "      <td>-1.417317</td>\n",
       "      <td>0.304715</td>\n",
       "      <td>1.860795</td>\n",
       "      <td>0.303171</td>\n",
       "      <td>-0.307153</td>\n",
       "      <td>-0.150043</td>\n",
       "      <td>1.561432</td>\n",
       "      <td>-1.227076</td>\n",
       "      <td>-0.036953</td>\n",
       "      <td>-0.018634</td>\n",
       "      <td>0.056646</td>\n",
       "      <td>-0.038599</td>\n",
       "      <td>-0.197964</td>\n",
       "      <td>0.211123</td>\n",
       "      <td>-0.070594</td>\n",
       "    </tr>\n",
       "    <tr>\n",
       "      <th>4</th>\n",
       "      <td>0.533424</td>\n",
       "      <td>0.661044</td>\n",
       "      <td>0.152644</td>\n",
       "      <td>0.220287</td>\n",
       "      <td>0.561217</td>\n",
       "      <td>0.304715</td>\n",
       "      <td>1.860795</td>\n",
       "      <td>0.303171</td>\n",
       "      <td>-0.307153</td>\n",
       "      <td>-0.150043</td>\n",
       "      <td>-0.640438</td>\n",
       "      <td>0.814945</td>\n",
       "      <td>-0.036953</td>\n",
       "      <td>-0.018634</td>\n",
       "      <td>0.056646</td>\n",
       "      <td>-0.038599</td>\n",
       "      <td>-0.197964</td>\n",
       "      <td>0.211123</td>\n",
       "      <td>-0.070594</td>\n",
       "    </tr>\n",
       "    <tr>\n",
       "      <th>...</th>\n",
       "      <td>...</td>\n",
       "      <td>...</td>\n",
       "      <td>...</td>\n",
       "      <td>...</td>\n",
       "      <td>...</td>\n",
       "      <td>...</td>\n",
       "      <td>...</td>\n",
       "      <td>...</td>\n",
       "      <td>...</td>\n",
       "      <td>...</td>\n",
       "      <td>...</td>\n",
       "      <td>...</td>\n",
       "      <td>...</td>\n",
       "      <td>...</td>\n",
       "      <td>...</td>\n",
       "      <td>...</td>\n",
       "      <td>...</td>\n",
       "      <td>...</td>\n",
       "      <td>...</td>\n",
       "    </tr>\n",
       "    <tr>\n",
       "      <th>40327</th>\n",
       "      <td>-6.193918</td>\n",
       "      <td>-0.020810</td>\n",
       "      <td>1.074657</td>\n",
       "      <td>0.220287</td>\n",
       "      <td>3.452396</td>\n",
       "      <td>0.304715</td>\n",
       "      <td>1.860795</td>\n",
       "      <td>0.303171</td>\n",
       "      <td>-0.307153</td>\n",
       "      <td>-0.150043</td>\n",
       "      <td>-0.640438</td>\n",
       "      <td>0.814945</td>\n",
       "      <td>-0.036953</td>\n",
       "      <td>-0.018634</td>\n",
       "      <td>0.056646</td>\n",
       "      <td>-0.038599</td>\n",
       "      <td>5.051412</td>\n",
       "      <td>-4.736582</td>\n",
       "      <td>-0.070594</td>\n",
       "    </tr>\n",
       "    <tr>\n",
       "      <th>40328</th>\n",
       "      <td>-4.512083</td>\n",
       "      <td>1.274712</td>\n",
       "      <td>-0.069094</td>\n",
       "      <td>0.220287</td>\n",
       "      <td>-0.134095</td>\n",
       "      <td>0.304715</td>\n",
       "      <td>1.860795</td>\n",
       "      <td>0.303171</td>\n",
       "      <td>-0.307153</td>\n",
       "      <td>-0.150043</td>\n",
       "      <td>1.561432</td>\n",
       "      <td>-1.227076</td>\n",
       "      <td>-0.036953</td>\n",
       "      <td>-0.018634</td>\n",
       "      <td>0.056646</td>\n",
       "      <td>-0.038599</td>\n",
       "      <td>5.051412</td>\n",
       "      <td>-4.736582</td>\n",
       "      <td>-0.070594</td>\n",
       "    </tr>\n",
       "    <tr>\n",
       "      <th>40329</th>\n",
       "      <td>-6.193918</td>\n",
       "      <td>-0.020810</td>\n",
       "      <td>-0.270675</td>\n",
       "      <td>0.220287</td>\n",
       "      <td>-0.766197</td>\n",
       "      <td>0.304715</td>\n",
       "      <td>1.860795</td>\n",
       "      <td>0.303171</td>\n",
       "      <td>3.255711</td>\n",
       "      <td>-0.150043</td>\n",
       "      <td>-0.640438</td>\n",
       "      <td>-1.227076</td>\n",
       "      <td>-0.036953</td>\n",
       "      <td>-0.018634</td>\n",
       "      <td>0.056646</td>\n",
       "      <td>-0.038599</td>\n",
       "      <td>-0.197964</td>\n",
       "      <td>-4.736582</td>\n",
       "      <td>14.165451</td>\n",
       "    </tr>\n",
       "    <tr>\n",
       "      <th>40330</th>\n",
       "      <td>-6.193918</td>\n",
       "      <td>-1.265192</td>\n",
       "      <td>-0.292586</td>\n",
       "      <td>0.220287</td>\n",
       "      <td>-0.834904</td>\n",
       "      <td>0.304715</td>\n",
       "      <td>1.860795</td>\n",
       "      <td>0.303171</td>\n",
       "      <td>3.255711</td>\n",
       "      <td>-0.150043</td>\n",
       "      <td>-0.640438</td>\n",
       "      <td>-1.227076</td>\n",
       "      <td>27.061210</td>\n",
       "      <td>-0.018634</td>\n",
       "      <td>-17.653644</td>\n",
       "      <td>-0.038599</td>\n",
       "      <td>5.051412</td>\n",
       "      <td>-4.736582</td>\n",
       "      <td>-0.070594</td>\n",
       "    </tr>\n",
       "    <tr>\n",
       "      <th>40331</th>\n",
       "      <td>-4.512083</td>\n",
       "      <td>-0.020810</td>\n",
       "      <td>29.944529</td>\n",
       "      <td>-3.133669</td>\n",
       "      <td>-0.908214</td>\n",
       "      <td>-2.132674</td>\n",
       "      <td>0.659194</td>\n",
       "      <td>-2.080539</td>\n",
       "      <td>-0.307153</td>\n",
       "      <td>-0.150043</td>\n",
       "      <td>-0.640438</td>\n",
       "      <td>0.814945</td>\n",
       "      <td>-0.036953</td>\n",
       "      <td>-0.018634</td>\n",
       "      <td>0.056646</td>\n",
       "      <td>-0.038599</td>\n",
       "      <td>5.051412</td>\n",
       "      <td>-4.736582</td>\n",
       "      <td>-0.070594</td>\n",
       "    </tr>\n",
       "  </tbody>\n",
       "</table>\n",
       "<p>40332 rows × 19 columns</p>\n",
       "</div>"
      ],
      "text/plain": [
       "       work_year  job_title     salary  salary_currency  salary_in_usd  \\\n",
       "0       0.533424  -0.719710   0.018352         0.220287       0.140113   \n",
       "1       0.533424  -0.719710  -0.159937         0.220287      -0.418953   \n",
       "2       0.533424   0.575812  -0.327013         0.220287      -0.942856   \n",
       "3       0.533424   0.575812  -0.478321         0.220287      -1.417317   \n",
       "4       0.533424   0.661044   0.152644         0.220287       0.561217   \n",
       "...          ...        ...        ...              ...            ...   \n",
       "40327  -6.193918  -0.020810   1.074657         0.220287       3.452396   \n",
       "40328  -4.512083   1.274712  -0.069094         0.220287      -0.134095   \n",
       "40329  -6.193918  -0.020810  -0.270675         0.220287      -0.766197   \n",
       "40330  -6.193918  -1.265192  -0.292586         0.220287      -0.834904   \n",
       "40331  -4.512083  -0.020810  29.944529        -3.133669      -0.908214   \n",
       "\n",
       "       employee_residence  remote_ratio  company_location  \\\n",
       "0                0.304715     -0.542407          0.303171   \n",
       "1                0.304715     -0.542407          0.303171   \n",
       "2                0.304715      1.860795          0.303171   \n",
       "3                0.304715      1.860795          0.303171   \n",
       "4                0.304715      1.860795          0.303171   \n",
       "...                   ...           ...               ...   \n",
       "40327            0.304715      1.860795          0.303171   \n",
       "40328            0.304715      1.860795          0.303171   \n",
       "40329            0.304715      1.860795          0.303171   \n",
       "40330            0.304715      1.860795          0.303171   \n",
       "40331           -2.132674      0.659194         -2.080539   \n",
       "\n",
       "       experience_level_EN  experience_level_EX  experience_level_MI  \\\n",
       "0                -0.307153            -0.150043            -0.640438   \n",
       "1                -0.307153            -0.150043            -0.640438   \n",
       "2                -0.307153            -0.150043             1.561432   \n",
       "3                -0.307153            -0.150043             1.561432   \n",
       "4                -0.307153            -0.150043            -0.640438   \n",
       "...                    ...                  ...                  ...   \n",
       "40327            -0.307153            -0.150043            -0.640438   \n",
       "40328            -0.307153            -0.150043             1.561432   \n",
       "40329             3.255711            -0.150043            -0.640438   \n",
       "40330             3.255711            -0.150043            -0.640438   \n",
       "40331            -0.307153            -0.150043            -0.640438   \n",
       "\n",
       "       experience_level_SE  employment_type_CT  employment_type_FL  \\\n",
       "0                 0.814945           -0.036953           -0.018634   \n",
       "1                 0.814945           -0.036953           -0.018634   \n",
       "2                -1.227076           -0.036953           -0.018634   \n",
       "3                -1.227076           -0.036953           -0.018634   \n",
       "4                 0.814945           -0.036953           -0.018634   \n",
       "...                    ...                 ...                 ...   \n",
       "40327             0.814945           -0.036953           -0.018634   \n",
       "40328            -1.227076           -0.036953           -0.018634   \n",
       "40329            -1.227076           -0.036953           -0.018634   \n",
       "40330            -1.227076           27.061210           -0.018634   \n",
       "40331             0.814945           -0.036953           -0.018634   \n",
       "\n",
       "       employment_type_FT  employment_type_PT  company_size_L  company_size_M  \\\n",
       "0                0.056646           -0.038599       -0.197964        0.211123   \n",
       "1                0.056646           -0.038599       -0.197964        0.211123   \n",
       "2                0.056646           -0.038599       -0.197964        0.211123   \n",
       "3                0.056646           -0.038599       -0.197964        0.211123   \n",
       "4                0.056646           -0.038599       -0.197964        0.211123   \n",
       "...                   ...                 ...             ...             ...   \n",
       "40327            0.056646           -0.038599        5.051412       -4.736582   \n",
       "40328            0.056646           -0.038599        5.051412       -4.736582   \n",
       "40329            0.056646           -0.038599       -0.197964       -4.736582   \n",
       "40330          -17.653644           -0.038599        5.051412       -4.736582   \n",
       "40331            0.056646           -0.038599        5.051412       -4.736582   \n",
       "\n",
       "       company_size_S  \n",
       "0           -0.070594  \n",
       "1           -0.070594  \n",
       "2           -0.070594  \n",
       "3           -0.070594  \n",
       "4           -0.070594  \n",
       "...               ...  \n",
       "40327       -0.070594  \n",
       "40328       -0.070594  \n",
       "40329       14.165451  \n",
       "40330       -0.070594  \n",
       "40331       -0.070594  \n",
       "\n",
       "[40332 rows x 19 columns]"
      ]
     },
     "execution_count": 2,
     "metadata": {},
     "output_type": "execute_result"
    }
   ],
   "source": [
    "df"
   ]
  },
  {
   "cell_type": "code",
   "execution_count": 3,
   "id": "8ad581c5",
   "metadata": {},
   "outputs": [
    {
     "name": "stdout",
     "output_type": "stream",
     "text": [
      "<class 'pandas.core.frame.DataFrame'>\n",
      "RangeIndex: 40332 entries, 0 to 40331\n",
      "Data columns (total 19 columns):\n",
      " #   Column               Non-Null Count  Dtype  \n",
      "---  ------               --------------  -----  \n",
      " 0   work_year            40332 non-null  float64\n",
      " 1   job_title            40332 non-null  float64\n",
      " 2   salary               40332 non-null  float64\n",
      " 3   salary_currency      40332 non-null  float64\n",
      " 4   salary_in_usd        40332 non-null  float64\n",
      " 5   employee_residence   40332 non-null  float64\n",
      " 6   remote_ratio         40332 non-null  float64\n",
      " 7   company_location     40332 non-null  float64\n",
      " 8   experience_level_EN  40332 non-null  float64\n",
      " 9   experience_level_EX  40332 non-null  float64\n",
      " 10  experience_level_MI  40332 non-null  float64\n",
      " 11  experience_level_SE  40332 non-null  float64\n",
      " 12  employment_type_CT   40332 non-null  float64\n",
      " 13  employment_type_FL   40332 non-null  float64\n",
      " 14  employment_type_FT   40332 non-null  float64\n",
      " 15  employment_type_PT   40332 non-null  float64\n",
      " 16  company_size_L       40332 non-null  float64\n",
      " 17  company_size_M       40332 non-null  float64\n",
      " 18  company_size_S       40332 non-null  float64\n",
      "dtypes: float64(19)\n",
      "memory usage: 5.8 MB\n"
     ]
    }
   ],
   "source": [
    "df.info()"
   ]
  },
  {
   "cell_type": "code",
   "execution_count": 20,
   "id": "a7c742bb",
   "metadata": {},
   "outputs": [
    {
     "data": {
      "application/vnd.plotly.v1+json": {
       "config": {
        "plotlyServerURL": "https://plot.ly"
       },
       "data": [
        {
         "hovertemplate": "Feature=%{x}<br>Correlation=%{text}<extra></extra>",
         "legendgroup": "",
         "marker": {
          "color": "#636efa",
          "pattern": {
           "shape": ""
          }
         },
         "name": "",
         "orientation": "v",
         "showlegend": false,
         "text": {
          "bdata": "AAAAAAAA8D8e11hYAp3RP42Ltfa1ybY/H+zi3h2ctT+bHZRE2CmtP8cVj3A6DKE/LA+LJeSPmz/6cgNbzQaWP9vqyjVidYI/uf/XHc5OfD/0dzIm05F0P9s/qiYjt04/9BJUjJMifL9GIf6igMyCvwIgk7szB4i/vf131SanoL9poIxWa52nvwfguiBrJK+/PNfH7dhwuL8=",
          "dtype": "f8"
         },
         "textposition": "outside",
         "texttemplate": "%{text:.2f}",
         "type": "bar",
         "x": [
          "salary",
          "salary_in_usd",
          "company_size_L",
          "job_title",
          "experience_level_SE",
          "company_size_S",
          "experience_level_EX",
          "employment_type_FL",
          "company_location",
          "employment_type_FT",
          "employee_residence",
          "remote_ratio",
          "salary_currency",
          "employment_type_CT",
          "employment_type_PT",
          "experience_level_MI",
          "work_year",
          "experience_level_EN",
          "company_size_M"
         ],
         "xaxis": "x",
         "y": {
          "bdata": "AAAAAAAA8D8e11hYAp3RP42Ltfa1ybY/H+zi3h2ctT+bHZRE2CmtP8cVj3A6DKE/LA+LJeSPmz/6cgNbzQaWP9vqyjVidYI/uf/XHc5OfD/0dzIm05F0P9s/qiYjt04/9BJUjJMifL9GIf6igMyCvwIgk7szB4i/vf131SanoL9poIxWa52nvwfguiBrJK+/PNfH7dhwuL8=",
          "dtype": "f8"
         },
         "yaxis": "y"
        }
       ],
       "layout": {
        "barmode": "relative",
        "legend": {
         "tracegroupgap": 0
        },
        "template": {
         "data": {
          "bar": [
           {
            "error_x": {
             "color": "#2a3f5f"
            },
            "error_y": {
             "color": "#2a3f5f"
            },
            "marker": {
             "line": {
              "color": "#E5ECF6",
              "width": 0.5
             },
             "pattern": {
              "fillmode": "overlay",
              "size": 10,
              "solidity": 0.2
             }
            },
            "type": "bar"
           }
          ],
          "barpolar": [
           {
            "marker": {
             "line": {
              "color": "#E5ECF6",
              "width": 0.5
             },
             "pattern": {
              "fillmode": "overlay",
              "size": 10,
              "solidity": 0.2
             }
            },
            "type": "barpolar"
           }
          ],
          "carpet": [
           {
            "aaxis": {
             "endlinecolor": "#2a3f5f",
             "gridcolor": "white",
             "linecolor": "white",
             "minorgridcolor": "white",
             "startlinecolor": "#2a3f5f"
            },
            "baxis": {
             "endlinecolor": "#2a3f5f",
             "gridcolor": "white",
             "linecolor": "white",
             "minorgridcolor": "white",
             "startlinecolor": "#2a3f5f"
            },
            "type": "carpet"
           }
          ],
          "choropleth": [
           {
            "colorbar": {
             "outlinewidth": 0,
             "ticks": ""
            },
            "type": "choropleth"
           }
          ],
          "contour": [
           {
            "colorbar": {
             "outlinewidth": 0,
             "ticks": ""
            },
            "colorscale": [
             [
              0,
              "#0d0887"
             ],
             [
              0.1111111111111111,
              "#46039f"
             ],
             [
              0.2222222222222222,
              "#7201a8"
             ],
             [
              0.3333333333333333,
              "#9c179e"
             ],
             [
              0.4444444444444444,
              "#bd3786"
             ],
             [
              0.5555555555555556,
              "#d8576b"
             ],
             [
              0.6666666666666666,
              "#ed7953"
             ],
             [
              0.7777777777777778,
              "#fb9f3a"
             ],
             [
              0.8888888888888888,
              "#fdca26"
             ],
             [
              1,
              "#f0f921"
             ]
            ],
            "type": "contour"
           }
          ],
          "contourcarpet": [
           {
            "colorbar": {
             "outlinewidth": 0,
             "ticks": ""
            },
            "type": "contourcarpet"
           }
          ],
          "heatmap": [
           {
            "colorbar": {
             "outlinewidth": 0,
             "ticks": ""
            },
            "colorscale": [
             [
              0,
              "#0d0887"
             ],
             [
              0.1111111111111111,
              "#46039f"
             ],
             [
              0.2222222222222222,
              "#7201a8"
             ],
             [
              0.3333333333333333,
              "#9c179e"
             ],
             [
              0.4444444444444444,
              "#bd3786"
             ],
             [
              0.5555555555555556,
              "#d8576b"
             ],
             [
              0.6666666666666666,
              "#ed7953"
             ],
             [
              0.7777777777777778,
              "#fb9f3a"
             ],
             [
              0.8888888888888888,
              "#fdca26"
             ],
             [
              1,
              "#f0f921"
             ]
            ],
            "type": "heatmap"
           }
          ],
          "histogram": [
           {
            "marker": {
             "pattern": {
              "fillmode": "overlay",
              "size": 10,
              "solidity": 0.2
             }
            },
            "type": "histogram"
           }
          ],
          "histogram2d": [
           {
            "colorbar": {
             "outlinewidth": 0,
             "ticks": ""
            },
            "colorscale": [
             [
              0,
              "#0d0887"
             ],
             [
              0.1111111111111111,
              "#46039f"
             ],
             [
              0.2222222222222222,
              "#7201a8"
             ],
             [
              0.3333333333333333,
              "#9c179e"
             ],
             [
              0.4444444444444444,
              "#bd3786"
             ],
             [
              0.5555555555555556,
              "#d8576b"
             ],
             [
              0.6666666666666666,
              "#ed7953"
             ],
             [
              0.7777777777777778,
              "#fb9f3a"
             ],
             [
              0.8888888888888888,
              "#fdca26"
             ],
             [
              1,
              "#f0f921"
             ]
            ],
            "type": "histogram2d"
           }
          ],
          "histogram2dcontour": [
           {
            "colorbar": {
             "outlinewidth": 0,
             "ticks": ""
            },
            "colorscale": [
             [
              0,
              "#0d0887"
             ],
             [
              0.1111111111111111,
              "#46039f"
             ],
             [
              0.2222222222222222,
              "#7201a8"
             ],
             [
              0.3333333333333333,
              "#9c179e"
             ],
             [
              0.4444444444444444,
              "#bd3786"
             ],
             [
              0.5555555555555556,
              "#d8576b"
             ],
             [
              0.6666666666666666,
              "#ed7953"
             ],
             [
              0.7777777777777778,
              "#fb9f3a"
             ],
             [
              0.8888888888888888,
              "#fdca26"
             ],
             [
              1,
              "#f0f921"
             ]
            ],
            "type": "histogram2dcontour"
           }
          ],
          "mesh3d": [
           {
            "colorbar": {
             "outlinewidth": 0,
             "ticks": ""
            },
            "type": "mesh3d"
           }
          ],
          "parcoords": [
           {
            "line": {
             "colorbar": {
              "outlinewidth": 0,
              "ticks": ""
             }
            },
            "type": "parcoords"
           }
          ],
          "pie": [
           {
            "automargin": true,
            "type": "pie"
           }
          ],
          "scatter": [
           {
            "fillpattern": {
             "fillmode": "overlay",
             "size": 10,
             "solidity": 0.2
            },
            "type": "scatter"
           }
          ],
          "scatter3d": [
           {
            "line": {
             "colorbar": {
              "outlinewidth": 0,
              "ticks": ""
             }
            },
            "marker": {
             "colorbar": {
              "outlinewidth": 0,
              "ticks": ""
             }
            },
            "type": "scatter3d"
           }
          ],
          "scattercarpet": [
           {
            "marker": {
             "colorbar": {
              "outlinewidth": 0,
              "ticks": ""
             }
            },
            "type": "scattercarpet"
           }
          ],
          "scattergeo": [
           {
            "marker": {
             "colorbar": {
              "outlinewidth": 0,
              "ticks": ""
             }
            },
            "type": "scattergeo"
           }
          ],
          "scattergl": [
           {
            "marker": {
             "colorbar": {
              "outlinewidth": 0,
              "ticks": ""
             }
            },
            "type": "scattergl"
           }
          ],
          "scattermap": [
           {
            "marker": {
             "colorbar": {
              "outlinewidth": 0,
              "ticks": ""
             }
            },
            "type": "scattermap"
           }
          ],
          "scattermapbox": [
           {
            "marker": {
             "colorbar": {
              "outlinewidth": 0,
              "ticks": ""
             }
            },
            "type": "scattermapbox"
           }
          ],
          "scatterpolar": [
           {
            "marker": {
             "colorbar": {
              "outlinewidth": 0,
              "ticks": ""
             }
            },
            "type": "scatterpolar"
           }
          ],
          "scatterpolargl": [
           {
            "marker": {
             "colorbar": {
              "outlinewidth": 0,
              "ticks": ""
             }
            },
            "type": "scatterpolargl"
           }
          ],
          "scatterternary": [
           {
            "marker": {
             "colorbar": {
              "outlinewidth": 0,
              "ticks": ""
             }
            },
            "type": "scatterternary"
           }
          ],
          "surface": [
           {
            "colorbar": {
             "outlinewidth": 0,
             "ticks": ""
            },
            "colorscale": [
             [
              0,
              "#0d0887"
             ],
             [
              0.1111111111111111,
              "#46039f"
             ],
             [
              0.2222222222222222,
              "#7201a8"
             ],
             [
              0.3333333333333333,
              "#9c179e"
             ],
             [
              0.4444444444444444,
              "#bd3786"
             ],
             [
              0.5555555555555556,
              "#d8576b"
             ],
             [
              0.6666666666666666,
              "#ed7953"
             ],
             [
              0.7777777777777778,
              "#fb9f3a"
             ],
             [
              0.8888888888888888,
              "#fdca26"
             ],
             [
              1,
              "#f0f921"
             ]
            ],
            "type": "surface"
           }
          ],
          "table": [
           {
            "cells": {
             "fill": {
              "color": "#EBF0F8"
             },
             "line": {
              "color": "white"
             }
            },
            "header": {
             "fill": {
              "color": "#C8D4E3"
             },
             "line": {
              "color": "white"
             }
            },
            "type": "table"
           }
          ]
         },
         "layout": {
          "annotationdefaults": {
           "arrowcolor": "#2a3f5f",
           "arrowhead": 0,
           "arrowwidth": 1
          },
          "autotypenumbers": "strict",
          "coloraxis": {
           "colorbar": {
            "outlinewidth": 0,
            "ticks": ""
           }
          },
          "colorscale": {
           "diverging": [
            [
             0,
             "#8e0152"
            ],
            [
             0.1,
             "#c51b7d"
            ],
            [
             0.2,
             "#de77ae"
            ],
            [
             0.3,
             "#f1b6da"
            ],
            [
             0.4,
             "#fde0ef"
            ],
            [
             0.5,
             "#f7f7f7"
            ],
            [
             0.6,
             "#e6f5d0"
            ],
            [
             0.7,
             "#b8e186"
            ],
            [
             0.8,
             "#7fbc41"
            ],
            [
             0.9,
             "#4d9221"
            ],
            [
             1,
             "#276419"
            ]
           ],
           "sequential": [
            [
             0,
             "#0d0887"
            ],
            [
             0.1111111111111111,
             "#46039f"
            ],
            [
             0.2222222222222222,
             "#7201a8"
            ],
            [
             0.3333333333333333,
             "#9c179e"
            ],
            [
             0.4444444444444444,
             "#bd3786"
            ],
            [
             0.5555555555555556,
             "#d8576b"
            ],
            [
             0.6666666666666666,
             "#ed7953"
            ],
            [
             0.7777777777777778,
             "#fb9f3a"
            ],
            [
             0.8888888888888888,
             "#fdca26"
            ],
            [
             1,
             "#f0f921"
            ]
           ],
           "sequentialminus": [
            [
             0,
             "#0d0887"
            ],
            [
             0.1111111111111111,
             "#46039f"
            ],
            [
             0.2222222222222222,
             "#7201a8"
            ],
            [
             0.3333333333333333,
             "#9c179e"
            ],
            [
             0.4444444444444444,
             "#bd3786"
            ],
            [
             0.5555555555555556,
             "#d8576b"
            ],
            [
             0.6666666666666666,
             "#ed7953"
            ],
            [
             0.7777777777777778,
             "#fb9f3a"
            ],
            [
             0.8888888888888888,
             "#fdca26"
            ],
            [
             1,
             "#f0f921"
            ]
           ]
          },
          "colorway": [
           "#636efa",
           "#EF553B",
           "#00cc96",
           "#ab63fa",
           "#FFA15A",
           "#19d3f3",
           "#FF6692",
           "#B6E880",
           "#FF97FF",
           "#FECB52"
          ],
          "font": {
           "color": "#2a3f5f"
          },
          "geo": {
           "bgcolor": "white",
           "lakecolor": "white",
           "landcolor": "#E5ECF6",
           "showlakes": true,
           "showland": true,
           "subunitcolor": "white"
          },
          "hoverlabel": {
           "align": "left"
          },
          "hovermode": "closest",
          "mapbox": {
           "style": "light"
          },
          "paper_bgcolor": "white",
          "plot_bgcolor": "#E5ECF6",
          "polar": {
           "angularaxis": {
            "gridcolor": "white",
            "linecolor": "white",
            "ticks": ""
           },
           "bgcolor": "#E5ECF6",
           "radialaxis": {
            "gridcolor": "white",
            "linecolor": "white",
            "ticks": ""
           }
          },
          "scene": {
           "xaxis": {
            "backgroundcolor": "#E5ECF6",
            "gridcolor": "white",
            "gridwidth": 2,
            "linecolor": "white",
            "showbackground": true,
            "ticks": "",
            "zerolinecolor": "white"
           },
           "yaxis": {
            "backgroundcolor": "#E5ECF6",
            "gridcolor": "white",
            "gridwidth": 2,
            "linecolor": "white",
            "showbackground": true,
            "ticks": "",
            "zerolinecolor": "white"
           },
           "zaxis": {
            "backgroundcolor": "#E5ECF6",
            "gridcolor": "white",
            "gridwidth": 2,
            "linecolor": "white",
            "showbackground": true,
            "ticks": "",
            "zerolinecolor": "white"
           }
          },
          "shapedefaults": {
           "line": {
            "color": "#2a3f5f"
           }
          },
          "ternary": {
           "aaxis": {
            "gridcolor": "white",
            "linecolor": "white",
            "ticks": ""
           },
           "baxis": {
            "gridcolor": "white",
            "linecolor": "white",
            "ticks": ""
           },
           "bgcolor": "#E5ECF6",
           "caxis": {
            "gridcolor": "white",
            "linecolor": "white",
            "ticks": ""
           }
          },
          "title": {
           "x": 0.05
          },
          "xaxis": {
           "automargin": true,
           "gridcolor": "white",
           "linecolor": "white",
           "ticks": "",
           "title": {
            "standoff": 15
           },
           "zerolinecolor": "white",
           "zerolinewidth": 2
          },
          "yaxis": {
           "automargin": true,
           "gridcolor": "white",
           "linecolor": "white",
           "ticks": "",
           "title": {
            "standoff": 15
           },
           "zerolinecolor": "white",
           "zerolinewidth": 2
          }
         }
        },
        "title": {
         "text": "Salary bilan boshqa ustunlar o‘rtasidagi correlation"
        },
        "xaxis": {
         "anchor": "y",
         "domain": [
          0,
          1
         ],
         "title": {
          "text": "Feature"
         }
        },
        "yaxis": {
         "anchor": "x",
         "domain": [
          0,
          1
         ],
         "range": [
          -1,
          1
         ],
         "title": {
          "text": "Correlation"
         }
        }
       }
      }
     },
     "metadata": {},
     "output_type": "display_data"
    }
   ],
   "source": [
    "import plotly.express as px\n",
    "import pandas as pd\n",
    "\n",
    "# Salary bilan correlation hisoblash\n",
    "corr_matrix = df.corr()\n",
    "\n",
    "# Salary ustunini olish\n",
    "salary_corr = corr_matrix[[\"salary\"]].reset_index()\n",
    "salary_corr.columns = [\"Feature\", \"Correlation\"]\n",
    "\n",
    "# Heatmap yaratish\n",
    "fig = px.bar(salary_corr.sort_values(by=\"Correlation\", ascending=False),\n",
    "             x=\"Feature\", y=\"Correlation\",\n",
    "             title=\"Salary bilan boshqa ustunlar o‘rtasidagi correlation\",\n",
    "             text=\"Correlation\")\n",
    "\n",
    "fig.update_traces(texttemplate=\"%{text:.2f}\", textposition=\"outside\")\n",
    "fig.update_layout(yaxis=dict(range=[-1, 1]))\n",
    "fig.show()\n"
   ]
  },
  {
   "cell_type": "code",
   "execution_count": 5,
   "id": "55c843d4",
   "metadata": {},
   "outputs": [
    {
     "name": "stdout",
     "output_type": "stream",
     "text": [
      "                      Model        R2       MSE       MAE\n",
      "1             Decision Tree  0.708436  0.171542  0.013969\n",
      "2             Random Forest  0.667047  0.195894  0.023860\n",
      "3         Gradient Boosting  0.611383  0.228644  0.032204\n",
      "4  Support Vector Regressor  0.195257  0.473472  0.062556\n",
      "0         Linear Regression  0.157048  0.495953  0.101052\n"
     ]
    }
   ],
   "source": [
    "import pandas as pd\n",
    "import numpy as np\n",
    "\n",
    "from sklearn.model_selection import train_test_split\n",
    "from sklearn.preprocessing import StandardScaler\n",
    "from sklearn.linear_model import LinearRegression\n",
    "from sklearn.tree import DecisionTreeRegressor\n",
    "from sklearn.ensemble import RandomForestRegressor, GradientBoostingRegressor\n",
    "from sklearn.svm import SVR\n",
    "\n",
    "from sklearn.metrics import r2_score, mean_squared_error, mean_absolute_error\n",
    "\n",
    "# ===============================\n",
    "# 1. Ma'lumotlarni tayyorlash\n",
    "# ===============================\n",
    "X = df.drop(columns=[\"salary\"])\n",
    "y = df[\"salary\"]\n",
    "\n",
    "# Categorical ustunlar bo'lsa, ularni one-hot encoding qilish\n",
    "X = pd.get_dummies(X, drop_first=True)\n",
    "\n",
    "# Train/Test bo‘lishi\n",
    "X_train, X_test, y_train, y_test = train_test_split(X, y, test_size=0.2, random_state=42)\n",
    "\n",
    "# Ma'lumotlarni scaling qilish\n",
    "scaler = StandardScaler()\n",
    "X_train = scaler.fit_transform(X_train)\n",
    "X_test = scaler.transform(X_test)\n",
    "\n",
    "# ===============================\n",
    "# 2. Regression modellar ro‘yxati\n",
    "# ===============================\n",
    "models = {\n",
    "    \"Linear Regression\": LinearRegression(),\n",
    "    \"Decision Tree\": DecisionTreeRegressor(random_state=42),\n",
    "    \"Random Forest\": RandomForestRegressor(random_state=42),\n",
    "    \"Gradient Boosting\": GradientBoostingRegressor(random_state=42),\n",
    "    \"Support Vector Regressor\": SVR()\n",
    "}\n",
    "\n",
    "# ===============================\n",
    "# 3. Model natijalarini saqlash uchun ro‘yxat\n",
    "# ===============================\n",
    "results_list = []\n",
    "\n",
    "# ===============================\n",
    "# 4. Modelni o‘rgatish va baholash\n",
    "# ===============================\n",
    "for name, model in models.items():\n",
    "    model.fit(X_train, y_train)\n",
    "    y_pred = model.predict(X_test)\n",
    "\n",
    "    r2 = r2_score(y_test, y_pred)\n",
    "    mse = mean_squared_error(y_test, y_pred)\n",
    "    mae = mean_absolute_error(y_test, y_pred)\n",
    "\n",
    "    results_list.append({\"Model\": name, \"R2\": r2, \"MSE\": mse, \"MAE\": mae})\n",
    "\n",
    "# ===============================\n",
    "# 5. Natijalarni DataFrame ga aylantirish\n",
    "# ===============================\n",
    "results = pd.DataFrame(results_list)\n",
    "print(results.sort_values(by=\"R2\", ascending=False))\n"
   ]
  },
  {
   "cell_type": "markdown",
   "id": "4290de8c",
   "metadata": {},
   "source": [
    "# 📊 Asosiy Xulosalar — Regression Modellarini Taqqoslash\n",
    "\n",
    "## **1. Eng yaxshi model**\n",
    "- **Decision Tree Regressor** eng yaxshi natija berdi — **R² = 0.708**, bu model ma’lumotlarning ~70% variansiyasini tushuntira oladi.\n",
    "- **MSE** va **MAE** eng past bo‘lib, modelning taxminlari juda aniq ekanini ko‘rsatadi.\n",
    "\n",
    "---\n",
    "\n",
    "## **2. Ikkinchi o‘rinda**\n",
    "- **Random Forest Regressor** (**R² = 0.667**) yaxshi ishladi, lekin Decision Tree’dan biroz past.\n",
    "- Bu model umumiy stabillik va yuqori aniqlik uchun yaxshi variant hisoblanadi.\n",
    "\n",
    "---\n",
    "\n",
    "## **3. Gradient Boosting Regressor**\n",
    "- **R² = 0.611** bilan o‘rtacha natija berdi.\n",
    "- **MSE** va **MAE** qiymatlari biroz yuqori, shuning uchun murakkabligi inobatga olinib, bu model aniqroq sozlash (**hyperparameter tuning**) bilan yaxshilanishi mumkin.\n",
    "\n",
    "---\n",
    "\n",
    "## **4. Kuchsiz ishlagan modellari**\n",
    "- **Support Vector Regressor** (**R² = 0.195**) va **Linear Regression** (**R² = 0.157**) natijalari juda past.\n",
    "- Bu, ehtimol, ma’lumotlarda murakkab no-chiziqli bog‘lanishlar borligini va oddiy chiziqli yoki standart SVR model ular uchun yetarli bo‘lmasligini ko‘rsatadi.\n"
   ]
  },
  {
   "cell_type": "code",
   "execution_count": null,
   "id": "c3170865",
   "metadata": {},
   "outputs": [
    {
     "name": "stdout",
     "output_type": "stream",
     "text": [
      "📌 Decision Tree Regressor — Yakuniy Natijalar:\n",
      "R2: 0.7084\n",
      "MSE: 0.1715\n",
      "MAE: 0.0140\n"
     ]
    }
   ],
   "source": [
    "from sklearn.tree import DecisionTreeRegressor\n",
    "from sklearn.model_selection import train_test_split\n",
    "from sklearn.preprocessing import StandardScaler\n",
    "from sklearn.metrics import r2_score, mean_squared_error, mean_absolute_error\n",
    "\n",
    "# ===============================\n",
    "# Ma'lumot tayyorlash\n",
    "# ===============================\n",
    "X = df.drop(columns=[\"salary\"])\n",
    "y = df[\"salary\"]\n",
    "\n",
    "X = pd.get_dummies(X, drop_first=True)\n",
    "\n",
    "# Train/Test bo‘lishi\n",
    "X_train, X_test, y_train, y_test = train_test_split(X, y, test_size=0.2, random_state=42)\n",
    "\n",
    "scaler = StandardScaler()\n",
    "X_train = scaler.fit_transform(X_train)\n",
    "X_test = scaler.transform(X_test)\n",
    "\n",
    "# ===============================\n",
    "# Model tayyorlash\n",
    "# ===============================\n",
    "model = DecisionTreeRegressor(random_state=42)\n",
    "model.fit(X_train, y_train)\n",
    "\n",
    "# ===============================\n",
    "# Taxmin qilish va baholash\n",
    "# ===============================\n",
    "y_pred = model.predict(X_test)\n",
    "\n",
    "r2 = r2_score(y_test, y_pred)\n",
    "mse = mean_squared_error(y_test, y_pred)\n",
    "mae = mean_absolute_error(y_test, y_pred)\n",
    "\n",
    "print(\"📌 Decision Tree Regressor — Yakuniy Natijalar:\")\n",
    "print(f\"R2: {r2:.4f}\")\n",
    "print(f\"MSE: {mse:.4f}\")\n",
    "print(f\"MAE: {mae:.4f}\")"
   ]
  },
  {
   "cell_type": "markdown",
   "id": "9219d704",
   "metadata": {},
   "source": [
    "# Decision Tree Hyperparameter Tuning kodi"
   ]
  },
  {
   "cell_type": "code",
   "execution_count": 15,
   "id": "2cd94278",
   "metadata": {},
   "outputs": [
    {
     "name": "stdout",
     "output_type": "stream",
     "text": [
      "Fitting 5 folds for each of 135 candidates, totalling 675 fits\n",
      "📌 Eng yaxshi parametrlar: {'max_depth': 5, 'max_features': 'sqrt', 'min_samples_leaf': 1, 'min_samples_split': 5}\n",
      "📌 Eng yaxshi R2 (train): 0.2401\n",
      "\n",
      "📌 Tuned Decision Tree Regressor — Natijalar:\n",
      "R2: -3.3097\n",
      "MSE: 2.5356\n",
      "MAE: 0.2562\n"
     ]
    }
   ],
   "source": [
    "from sklearn.model_selection import GridSearchCV\n",
    "\n",
    "# ===============================\n",
    "# Hyperparameterlar to‘plami\n",
    "# ===============================\n",
    "param_grid = {\n",
    "    \"max_depth\": [5, 10, 15, 20, None],\n",
    "    \"min_samples_split\": [2, 5, 10],\n",
    "    \"min_samples_leaf\": [1, 2, 4],\n",
    "    \"max_features\": [None, \"sqrt\", \"log2\"]\n",
    "}\n",
    "\n",
    "# ===============================\n",
    "# GridSearchCV yaratish\n",
    "# ===============================\n",
    "grid_search = GridSearchCV(\n",
    "    estimator=DecisionTreeRegressor(random_state=42),\n",
    "    param_grid=param_grid,\n",
    "    scoring=\"r2\",\n",
    "    cv=5,\n",
    "    n_jobs=-1,\n",
    "    verbose=1\n",
    ")\n",
    "\n",
    "# ===============================\n",
    "# Tuningni bajarish\n",
    "# ===============================\n",
    "grid_search.fit(X_train, y_train)\n",
    "\n",
    "# ===============================\n",
    "# Eng yaxshi parametrlar va model natijasi\n",
    "# ===============================\n",
    "print(\"📌 Eng yaxshi parametrlar:\", grid_search.best_params_)\n",
    "print(f\"📌 Eng yaxshi R2 (train): {grid_search.best_score_:.4f}\")\n",
    "\n",
    "# ===============================\n",
    "# Eng yaxshi modelni test qilish\n",
    "# ===============================\n",
    "best_model = grid_search.best_estimator_\n",
    "y_pred_tuned = best_model.predict(X_test)\n",
    "\n",
    "r2_tuned = r2_score(y_test, y_pred_tuned)\n",
    "mse_tuned = mean_squared_error(y_test, y_pred_tuned)\n",
    "mae_tuned = mean_absolute_error(y_test, y_pred_tuned)\n",
    "\n",
    "print(\"\\n📌 Tuned Decision Tree Regressor — Natijalar:\")\n",
    "print(f\"R2: {r2_tuned:.4f}\")\n",
    "print(f\"MSE: {mse_tuned:.4f}\")\n",
    "print(f\"MAE: {mae_tuned:.4f}\")\n"
   ]
  },
  {
   "cell_type": "code",
   "execution_count": 16,
   "id": "c3bbdb14",
   "metadata": {},
   "outputs": [
    {
     "name": "stdout",
     "output_type": "stream",
     "text": [
      "Fitting 5 folds for each of 50 candidates, totalling 250 fits\n",
      "📌 Eng yaxshi parametrlar: {'min_samples_split': np.int64(4), 'min_samples_leaf': np.int64(2), 'max_features': 'log2', 'max_depth': np.int64(5)}\n",
      "📌 Eng yaxshi R2 (train): 0.2266\n",
      "\n",
      "📌 Tuned Decision Tree Regressor — Natijalar:\n",
      "R2: -0.6391\n",
      "MSE: 0.9644\n",
      "MAE: 0.2285\n"
     ]
    }
   ],
   "source": [
    "from sklearn.model_selection import RandomizedSearchCV\n",
    "from sklearn.tree import DecisionTreeRegressor\n",
    "import numpy as np\n",
    "\n",
    "# ===============================\n",
    "# Hyperparameterlar oralig‘i\n",
    "# ===============================\n",
    "param_dist = {\n",
    "    \"max_depth\": [None] + list(np.arange(5, 51, 5)),   # None yoki 5 dan 50 gacha 5 qadam bilan\n",
    "    \"min_samples_split\": list(np.arange(2, 21, 2)),    # 2 dan 20 gacha\n",
    "    \"min_samples_leaf\": list(np.arange(1, 11, 1)),     # 1 dan 10 gacha\n",
    "    \"max_features\": [None, \"sqrt\", \"log2\"]\n",
    "}\n",
    "\n",
    "# ===============================\n",
    "# RandomizedSearchCV yaratish\n",
    "# ===============================\n",
    "random_search = RandomizedSearchCV(\n",
    "    estimator=DecisionTreeRegressor(random_state=42),\n",
    "    param_distributions=param_dist,\n",
    "    n_iter=50,           # sinov soni\n",
    "    scoring=\"r2\",        # baholash kriteriyasi\n",
    "    cv=5,                # K-Fold\n",
    "    verbose=1,\n",
    "    random_state=42,\n",
    "    n_jobs=-1\n",
    ")\n",
    "\n",
    "# ===============================\n",
    "# Tuning jarayonini bajarish\n",
    "# ===============================\n",
    "random_search.fit(X_train, y_train)\n",
    "\n",
    "# ===============================\n",
    "# Eng yaxshi parametrlar va natijalar\n",
    "# ===============================\n",
    "print(\"📌 Eng yaxshi parametrlar:\", random_search.best_params_)\n",
    "print(f\"📌 Eng yaxshi R2 (train): {random_search.best_score_:.4f}\")\n",
    "\n",
    "# ===============================\n",
    "# Eng yaxshi modelni test qilish\n",
    "# ===============================\n",
    "best_model = random_search.best_estimator_\n",
    "y_pred_tuned = best_model.predict(X_test)\n",
    "\n",
    "from sklearn.metrics import r2_score, mean_squared_error, mean_absolute_error\n",
    "r2_tuned = r2_score(y_test, y_pred_tuned)\n",
    "mse_tuned = mean_squared_error(y_test, y_pred_tuned)\n",
    "mae_tuned = mean_absolute_error(y_test, y_pred_tuned)\n",
    "\n",
    "print(\"\\n📌 Tuned Decision Tree Regressor — Natijalar:\")\n",
    "print(f\"R2: {r2_tuned:.4f}\")\n",
    "print(f\"MSE: {mse_tuned:.4f}\")\n",
    "print(f\"MAE: {mae_tuned:.4f}\")\n"
   ]
  },
  {
   "cell_type": "markdown",
   "id": "b185bad5",
   "metadata": {},
   "source": [
    "# 📊 Tuned Decision Tree Regressor — Taqqoslash Jadvali\n",
    "\n",
    "| Model                              | Eng yaxshi parametrlar                                                                        | Train R² | Test R²  | MSE     | MAE     |\n",
    "|------------------------------------|------------------------------------------------------------------------------------------------|----------|----------|---------|---------|\n",
    "| RandomizedSearchCV (n_iter=135)  | {'max_depth': 5, 'max_features': 'sqrt', 'min_samples_leaf': 1, 'min_samples_split': 5}       | 0.2401   | -3.3097  | 2.5356  | 0.2562  |\n",
    "| RandomizedSearchCV (n_iter=50)   | {'min_samples_split': 4, 'min_samples_leaf': 2, 'max_features': 'log2', 'max_depth': 5}       | 0.2266   | -0.6391  | 0.9644  | 0.2285  |\n",
    "\n",
    "---\n",
    "\n",
    "## 🔍 Xulosa\n",
    "\n",
    "1. **Train R²** ikkinchi tuningda biroz past, ammo **test natija** jihatidan yaxshiroq (Test R²: -0.6391 vs -3.3097).  \n",
    "   Bu ikkinchi tuning modelning umumiylashish qobiliyatini yaxshilashga urinayotganini ko‘rsatadi.\n",
    "\n",
    "2. **MSE va MAE** qiymatlari ikkinchi tuningda ancha past — bu modelning test ma’lumotlari bo‘yicha xatoliklari kamayganini bildiradi.\n",
    "\n",
    "3. Har ikkala modelda Test R² manfiy bo‘lishi, model hali ham yaxshi umumiylashmaganini bildiradi — bu data structure va feature engineering masalasini qayta ko‘rib chiqishni talab qiladi.\n"
   ]
  },
  {
   "cell_type": "code",
   "execution_count": 17,
   "id": "cefb54e9",
   "metadata": {},
   "outputs": [
    {
     "name": "stdout",
     "output_type": "stream",
     "text": [
      "✅ Model saqlandi: C:\\Users\\Rasulbek_Ruzmetov\\Desktop\\SML_R_Project\\Models\\Decision_Tree_Model.pkl\n"
     ]
    }
   ],
   "source": [
    "import joblib\n",
    "import os\n",
    "\n",
    "# Modelni saqlash papkasi\n",
    "model_folder = r\"C:\\Users\\Rasulbek_Ruzmetov\\Desktop\\SML_R_Project\\Models\"\n",
    "\n",
    "# Agar papka mavjud bo‘lmasa, yaratish\n",
    "if not os.path.exists(model_folder):\n",
    "    os.makedirs(model_folder)\n",
    "\n",
    "# Fayl yo‘li\n",
    "model_path = os.path.join(model_folder, \"Decision_Tree_Model.pkl\")\n",
    "\n",
    "# Modelni saqlash\n",
    "joblib.dump(model, model_path)\n",
    "print(f\"✅ Model saqlandi: {model_path}\")\n"
   ]
  },
  {
   "cell_type": "code",
   "execution_count": null,
   "id": "0a27e7a8",
   "metadata": {},
   "outputs": [],
   "source": []
  }
 ],
 "metadata": {
  "kernelspec": {
   "display_name": "myvenv",
   "language": "python",
   "name": "python3"
  },
  "language_info": {
   "codemirror_mode": {
    "name": "ipython",
    "version": 3
   },
   "file_extension": ".py",
   "mimetype": "text/x-python",
   "name": "python",
   "nbconvert_exporter": "python",
   "pygments_lexer": "ipython3",
   "version": "3.13.3"
  }
 },
 "nbformat": 4,
 "nbformat_minor": 5
}
