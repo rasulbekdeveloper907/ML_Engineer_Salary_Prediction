{
 "cells": [
  {
   "cell_type": "code",
   "execution_count": 2,
   "id": "f92282cd",
   "metadata": {},
   "outputs": [],
   "source": [
    "import joblib\n",
    "\n",
    "model_path = r\"C:\\Users\\Rasulbek_Ruzmetov\\Desktop\\SML_R_Project\\Models\\randomized_xgb_model.pkl\"\n",
    "model = joblib.load(model_path)\n"
   ]
  },
  {
   "cell_type": "code",
   "execution_count": 4,
   "id": "54599ae8",
   "metadata": {},
   "outputs": [
    {
     "name": "stdout",
     "output_type": "stream",
     "text": [
      "New_Data.csv fayli yaratildi: (500, 4)\n"
     ]
    },
    {
     "data": {
      "text/html": [
       "<div>\n",
       "<style scoped>\n",
       "    .dataframe tbody tr th:only-of-type {\n",
       "        vertical-align: middle;\n",
       "    }\n",
       "\n",
       "    .dataframe tbody tr th {\n",
       "        vertical-align: top;\n",
       "    }\n",
       "\n",
       "    .dataframe thead th {\n",
       "        text-align: right;\n",
       "    }\n",
       "</style>\n",
       "<table border=\"1\" class=\"dataframe\">\n",
       "  <thead>\n",
       "    <tr style=\"text-align: right;\">\n",
       "      <th></th>\n",
       "      <th>experience_level</th>\n",
       "      <th>employment_type</th>\n",
       "      <th>job_title</th>\n",
       "      <th>salary</th>\n",
       "    </tr>\n",
       "  </thead>\n",
       "  <tbody>\n",
       "    <tr>\n",
       "      <th>0</th>\n",
       "      <td>3</td>\n",
       "      <td>contract</td>\n",
       "      <td>ML Engineer</td>\n",
       "      <td>117605</td>\n",
       "    </tr>\n",
       "    <tr>\n",
       "      <th>1</th>\n",
       "      <td>4</td>\n",
       "      <td>full_time</td>\n",
       "      <td>ML Engineer</td>\n",
       "      <td>191790</td>\n",
       "    </tr>\n",
       "    <tr>\n",
       "      <th>2</th>\n",
       "      <td>1</td>\n",
       "      <td>full_time</td>\n",
       "      <td>ML Engineer</td>\n",
       "      <td>175616</td>\n",
       "    </tr>\n",
       "    <tr>\n",
       "      <th>3</th>\n",
       "      <td>3</td>\n",
       "      <td>freelance</td>\n",
       "      <td>ML Engineer</td>\n",
       "      <td>108088</td>\n",
       "    </tr>\n",
       "    <tr>\n",
       "      <th>4</th>\n",
       "      <td>3</td>\n",
       "      <td>contract</td>\n",
       "      <td>ML Engineer</td>\n",
       "      <td>148752</td>\n",
       "    </tr>\n",
       "    <tr>\n",
       "      <th>5</th>\n",
       "      <td>4</td>\n",
       "      <td>full_time</td>\n",
       "      <td>ML Engineer</td>\n",
       "      <td>125284</td>\n",
       "    </tr>\n",
       "    <tr>\n",
       "      <th>6</th>\n",
       "      <td>1</td>\n",
       "      <td>freelance</td>\n",
       "      <td>ML Engineer</td>\n",
       "      <td>127043</td>\n",
       "    </tr>\n",
       "    <tr>\n",
       "      <th>7</th>\n",
       "      <td>1</td>\n",
       "      <td>contract</td>\n",
       "      <td>ML Engineer</td>\n",
       "      <td>195388</td>\n",
       "    </tr>\n",
       "    <tr>\n",
       "      <th>8</th>\n",
       "      <td>3</td>\n",
       "      <td>freelance</td>\n",
       "      <td>ML Engineer</td>\n",
       "      <td>105547</td>\n",
       "    </tr>\n",
       "    <tr>\n",
       "      <th>9</th>\n",
       "      <td>2</td>\n",
       "      <td>part_time</td>\n",
       "      <td>ML Engineer</td>\n",
       "      <td>167007</td>\n",
       "    </tr>\n",
       "  </tbody>\n",
       "</table>\n",
       "</div>"
      ],
      "text/plain": [
       "   experience_level employment_type    job_title  salary\n",
       "0                 3        contract  ML Engineer  117605\n",
       "1                 4       full_time  ML Engineer  191790\n",
       "2                 1       full_time  ML Engineer  175616\n",
       "3                 3       freelance  ML Engineer  108088\n",
       "4                 3        contract  ML Engineer  148752\n",
       "5                 4       full_time  ML Engineer  125284\n",
       "6                 1       freelance  ML Engineer  127043\n",
       "7                 1        contract  ML Engineer  195388\n",
       "8                 3       freelance  ML Engineer  105547\n",
       "9                 2       part_time  ML Engineer  167007"
      ]
     },
     "execution_count": 4,
     "metadata": {},
     "output_type": "execute_result"
    }
   ],
   "source": [
    "import pandas as pd\n",
    "import numpy as np\n",
    "\n",
    "# Tasodifiylik uchun seed\n",
    "np.random.seed(42)\n",
    "\n",
    "# 500 qatorli data yaratish\n",
    "experience_levels = np.random.choice([1, 2, 3, 4], size=500)  # Tajriba darajalari\n",
    "employment_types = np.random.choice([\"full_time\", \"part_time\", \"contract\", \"freelance\"], size=500)\n",
    "job_titles = [\"ML Engineer\"] * 500  # Faqat ML Engineer\n",
    "salaries = np.random.randint(70000, 200000, size=500)  # 70,000 dan 200,000 gacha salary\n",
    "\n",
    "df = pd.DataFrame({\n",
    "    \"experience_level\": experience_levels,\n",
    "    \"employment_type\": employment_types,\n",
    "    \"job_title\": job_titles,\n",
    "    \"salary\": salaries\n",
    "})\n",
    "\n",
    "# Faylni saqlash\n",
    "df.to_csv(r\"C:\\Users\\Rasulbek_Ruzmetov\\Desktop\\SML_R_Project\\Data\\Enginered_Data\\New_Data.csv\", index=False)\n",
    "\n",
    "print(\"New_Data.csv fayli yaratildi:\", df.shape)\n",
    "df.head(10)\n"
   ]
  },
  {
   "cell_type": "code",
   "execution_count": 17,
   "id": "2fa6310b",
   "metadata": {},
   "outputs": [],
   "source": [
    "import pandas as pd\n",
    "import numpy as np\n",
    "\n",
    "df = pd.DataFrame({\n",
    "    \"Unnamed: 0\": range(1, 501),\n",
    "    \"work_year\": np.random.choice([2020, 2021, 2022, 2023], size=500),\n",
    "    \"experience_level\": np.random.choice([1, 2, 3, 4], size=500),\n",
    "    \"job_title\": [\"ML Engineer\"] * 500,\n",
    "    \"salary_currency\": [\"USD\"] * 500,\n",
    "    \"salary_in_usd\": np.random.randint(70000, 200000, size=500),\n",
    "    \"employee_residence\": np.random.choice([\"US\", \"UK\", \"IN\", \"DE\"], size=500),\n",
    "    \"remote_ratio\": np.random.choice([0, 50, 100], size=500),\n",
    "    \"company_size\": np.random.choice([\"S\", \"M\", \"L\"], size=500),\n",
    "    \"is_large_company\": np.random.choice([0, 1], size=500)\n",
    "})\n",
    "\n",
    "df.to_csv(r\"C:\\Users\\Rasulbek_Ruzmetov\\Desktop\\SML_R_Project\\Data\\Enginered_Data\\New_Data.csv\", index=False)\n"
   ]
  },
  {
   "cell_type": "code",
   "execution_count": 19,
   "id": "86e1012e",
   "metadata": {},
   "outputs": [
    {
     "name": "stdout",
     "output_type": "stream",
     "text": [
      "Predict natijalari saqlandi: C:\\Users\\Rasulbek_Ruzmetov\\Desktop\\SML_R_Project\\Data\\Enginered_Data\\Predictions.csv\n"
     ]
    }
   ],
   "source": [
    "import pandas as pd\n",
    "import sys\n",
    "import joblib\n",
    "\n",
    "sys.path.append(r\"C:\\Users\\Rasulbek_Ruzmetov\\Desktop\\SML_R_Project\\Scripts\")\n",
    "from data_preprocessing import preprocess_data\n",
    "\n",
    "# Data yuklash\n",
    "new_data_path = r\"C:\\Users\\Rasulbek_Ruzmetov\\Desktop\\SML_R_Project\\Data\\Enginered_Data\\New_Data.csv\"\n",
    "new_data = pd.read_csv(new_data_path)\n",
    "\n",
    "log_path = r\"C:\\Users\\Rasulbek_Ruzmetov\\Desktop\\SML_R_Project\\Log\\preprocessing.log\"\n",
    "new_data_processed = preprocess_data(new_data, log_path)\n",
    "\n",
    "# Model yuklash\n",
    "model_path = r\"C:\\Users\\Rasulbek_Ruzmetov\\Desktop\\SML_R_Project\\Models\\randomized_xgb_model.pkl\"\n",
    "model = joblib.load(model_path)\n",
    "\n",
    "# Predict\n",
    "predictions = model.predict(new_data_processed)\n",
    "\n",
    "# Natijalarni saqlash\n",
    "output_df = new_data.copy()\n",
    "output_df[\"Predicted_Salary\"] = predictions\n",
    "output_path = r\"C:\\Users\\Rasulbek_Ruzmetov\\Desktop\\SML_R_Project\\Data\\Enginered_Data\\Predictions.csv\"\n",
    "output_df.to_csv(output_path, index=False)\n",
    "\n",
    "print(f\"Predict natijalari saqlandi: {output_path}\")\n"
   ]
  },
  {
   "cell_type": "code",
   "execution_count": 22,
   "id": "3dc901ad",
   "metadata": {},
   "outputs": [
    {
     "name": "stdout",
     "output_type": "stream",
     "text": [
      "Test_Target.csv fayli yaratildi: C:\\Users\\Rasulbek_Ruzmetov\\Desktop\\SML_R_Project\\Data\\Test_Target.csv\n"
     ]
    }
   ],
   "source": [
    "import pandas as pd\n",
    "import numpy as np\n",
    "\n",
    "# 500 ta tasodifiy target salary yaratish\n",
    "np.random.seed(42)\n",
    "test_target = pd.DataFrame({\n",
    "    \"salary\": np.random.randint(70000, 200000, size=500)\n",
    "})\n",
    "\n",
    "# Fayl saqlash\n",
    "test_target_path = r\"C:\\Users\\Rasulbek_Ruzmetov\\Desktop\\SML_R_Project\\Data\\Test_Target.csv\"\n",
    "test_target.to_csv(test_target_path, index=False)\n",
    "\n",
    "print(f\"Test_Target.csv fayli yaratildi: {test_target_path}\")\n"
   ]
  },
  {
   "cell_type": "code",
   "execution_count": 23,
   "id": "75e83fd9",
   "metadata": {},
   "outputs": [
    {
     "name": "stdout",
     "output_type": "stream",
     "text": [
      "R2 Score: -12.5820\n",
      "MAE: 137139.95\n",
      "MSE: 20302155776.00\n"
     ]
    }
   ],
   "source": [
    "from sklearn.metrics import r2_score, mean_absolute_error, mean_squared_error\n",
    "import pandas as pd\n",
    "\n",
    "# Test target ma'lumotlarini yuklash\n",
    "y_test_path = r\"C:\\Users\\Rasulbek_Ruzmetov\\Desktop\\SML_R_Project\\Data\\Test_Target.csv\"\n",
    "y_test = pd.read_csv(y_test_path)\n",
    "\n",
    "# Agar y_test faqat bitta ustun bo'lsa, uni Series sifatida olish\n",
    "if y_test.shape[1] == 1:\n",
    "    y_test = y_test.iloc[:, 0]\n",
    "\n",
    "# Performance metrikslarini hisoblash\n",
    "r2 = r2_score(y_test, predictions)\n",
    "mae = mean_absolute_error(y_test, predictions)\n",
    "mse = mean_squared_error(y_test, predictions)\n",
    "\n",
    "print(f\"R2 Score: {r2:.4f}\")\n",
    "print(f\"MAE: {mae:.2f}\")\n",
    "print(f\"MSE: {mse:.2f}\")\n"
   ]
  },
  {
   "cell_type": "code",
   "execution_count": null,
   "id": "9e4c8871",
   "metadata": {},
   "outputs": [],
   "source": []
  }
 ],
 "metadata": {
  "kernelspec": {
   "display_name": "myvenv",
   "language": "python",
   "name": "python3"
  },
  "language_info": {
   "codemirror_mode": {
    "name": "ipython",
    "version": 3
   },
   "file_extension": ".py",
   "mimetype": "text/x-python",
   "name": "python",
   "nbconvert_exporter": "python",
   "pygments_lexer": "ipython3",
   "version": "3.13.3"
  }
 },
 "nbformat": 4,
 "nbformat_minor": 5
}
