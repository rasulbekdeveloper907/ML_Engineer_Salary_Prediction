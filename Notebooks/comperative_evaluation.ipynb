{
 "cells": [
  {
   "cell_type": "code",
   "execution_count": null,
   "id": "28876b42",
   "metadata": {},
   "outputs": [],
   "source": [
    "# Importlar\n",
    "import sys\n",
    "sys.path.append(r\"C:\\Users\\Rasulbek_Ruzmetov\\Desktop\\SML_R_Project\\Scripts\")\n",
    "\n",
    "from data_loader import load_csv\n",
    "from analysis import data_overview, correlation_matrix, plot_histograms\n",
    "\n",
    "# Fayl yo‘llari\n",
    "raw_data_path = r\"C:\\Users\\Rasulbek_Ruzmetov\\Desktop\\SML_R_Project\\Data\\Raw_Data\\global_ai_ml_data_salaries.csv\"\n",
    "log_path = r\"C:\\Users\\Rasulbek_Ruzmetov\\Desktop\\SML_R_Project\\Log\\data_loader.log\"\n",
    "\n",
    "# Data yuklash\n",
    "df = load_csv(raw_data_path, log_path)\n",
    "\n",
    "# Data overview\n",
    "data_overview(df)\n",
    "\n",
    "# Korrelatsiya matritsasi\n",
    "correlation_matrix(df)\n",
    "\n",
    "# Histogramlar\n",
    "plot_histograms(df)\n"
   ]
  }
 ],
 "metadata": {
  "language_info": {
   "name": "python"
  }
 },
 "nbformat": 4,
 "nbformat_minor": 5
}
