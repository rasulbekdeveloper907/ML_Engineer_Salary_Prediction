{
 "cells": [
  {
   "cell_type": "code",
   "execution_count": 1,
   "id": "a0524c3d",
   "metadata": {},
   "outputs": [],
   "source": [
    "import pandas as pd\n",
    "import logging\n",
    "import os\n",
    "\n",
    "# Log fayl joylashuvi\n",
    "log_path = r\"C:\\Users\\Rasulbek_Ruzmetov\\Desktop\\SML_R_Project\\Log\\trainer.log\"\n",
    "\n",
    "# Log konfiguratsiyasi\n",
    "os.makedirs(os.path.dirname(log_path), exist_ok=True)\n",
    "logging.basicConfig(\n",
    "    filename=log_path,\n",
    "    level=logging.INFO,\n",
    "    format=\"%(asctime)s - %(levelname)s - %(message)s\",\n",
    "    filemode=\"a\"  # append mode\n",
    ")\n",
    "\n",
    "try:\n",
    "    logging.info(\"Feature_Selection.csv faylini o'qish jarayoni boshlandi.\")\n",
    "    df = pd.read_csv(r\"C:\\Users\\Rasulbek_Ruzmetov\\Desktop\\SML_R_Project\\Data\\Feature_Selection\\Feature_Selection.csv\")\n",
    "    logging.info(f\"Feature_Selection.csv muvaffaqiyatli o'qildi: {df.shape} o'lchamda.\")\n",
    "except FileNotFoundError as e:\n",
    "    logging.error(f\"Fayl topilmadi: {e}\")\n",
    "except Exception as e:\n",
    "    logging.error(f\"Noma’lum xatolik yuz berdi: {e}\")\n"
   ]
  },
  {
   "cell_type": "code",
   "execution_count": 21,
   "id": "68f6f6a6",
   "metadata": {},
   "outputs": [
    {
     "data": {
      "text/html": [
       "<div>\n",
       "<style scoped>\n",
       "    .dataframe tbody tr th:only-of-type {\n",
       "        vertical-align: middle;\n",
       "    }\n",
       "\n",
       "    .dataframe tbody tr th {\n",
       "        vertical-align: top;\n",
       "    }\n",
       "\n",
       "    .dataframe thead th {\n",
       "        text-align: right;\n",
       "    }\n",
       "</style>\n",
       "<table border=\"1\" class=\"dataframe\">\n",
       "  <thead>\n",
       "    <tr style=\"text-align: right;\">\n",
       "      <th></th>\n",
       "      <th>Unnamed: 0</th>\n",
       "      <th>work_year</th>\n",
       "      <th>experience_level</th>\n",
       "      <th>job_title</th>\n",
       "      <th>salary</th>\n",
       "      <th>salary_currency</th>\n",
       "      <th>salary_in_usd</th>\n",
       "      <th>employee_residence</th>\n",
       "      <th>remote_ratio</th>\n",
       "      <th>company_size</th>\n",
       "      <th>is_large_company</th>\n",
       "    </tr>\n",
       "  </thead>\n",
       "  <tbody>\n",
       "    <tr>\n",
       "      <th>0</th>\n",
       "      <td>0</td>\n",
       "      <td>0.645172</td>\n",
       "      <td>0.585146</td>\n",
       "      <td>0</td>\n",
       "      <td>0.281258</td>\n",
       "      <td>9</td>\n",
       "      <td>0.485419</td>\n",
       "      <td>33</td>\n",
       "      <td>-0.494994</td>\n",
       "      <td>1</td>\n",
       "      <td>-0.139407</td>\n",
       "    </tr>\n",
       "    <tr>\n",
       "      <th>1</th>\n",
       "      <td>1</td>\n",
       "      <td>0.645172</td>\n",
       "      <td>0.585146</td>\n",
       "      <td>0</td>\n",
       "      <td>-0.261413</td>\n",
       "      <td>9</td>\n",
       "      <td>-1.907805</td>\n",
       "      <td>33</td>\n",
       "      <td>-0.494994</td>\n",
       "      <td>1</td>\n",
       "      <td>-0.139407</td>\n",
       "    </tr>\n",
       "    <tr>\n",
       "      <th>2</th>\n",
       "      <td>2</td>\n",
       "      <td>0.645172</td>\n",
       "      <td>0.585146</td>\n",
       "      <td>0</td>\n",
       "      <td>0.212403</td>\n",
       "      <td>9</td>\n",
       "      <td>0.409431</td>\n",
       "      <td>33</td>\n",
       "      <td>-0.494994</td>\n",
       "      <td>1</td>\n",
       "      <td>-0.139407</td>\n",
       "    </tr>\n",
       "    <tr>\n",
       "      <th>3</th>\n",
       "      <td>3</td>\n",
       "      <td>0.645172</td>\n",
       "      <td>0.585146</td>\n",
       "      <td>0</td>\n",
       "      <td>-0.598624</td>\n",
       "      <td>9</td>\n",
       "      <td>NaN</td>\n",
       "      <td>33</td>\n",
       "      <td>-0.494994</td>\n",
       "      <td>1</td>\n",
       "      <td>-0.139407</td>\n",
       "    </tr>\n",
       "    <tr>\n",
       "      <th>4</th>\n",
       "      <td>4</td>\n",
       "      <td>0.645172</td>\n",
       "      <td>0.585146</td>\n",
       "      <td>0</td>\n",
       "      <td>NaN</td>\n",
       "      <td>3</td>\n",
       "      <td>NaN</td>\n",
       "      <td>22</td>\n",
       "      <td>-0.494994</td>\n",
       "      <td>1</td>\n",
       "      <td>-0.139407</td>\n",
       "    </tr>\n",
       "  </tbody>\n",
       "</table>\n",
       "</div>"
      ],
      "text/plain": [
       "   Unnamed: 0  work_year  experience_level  job_title    salary  \\\n",
       "0           0   0.645172          0.585146          0  0.281258   \n",
       "1           1   0.645172          0.585146          0 -0.261413   \n",
       "2           2   0.645172          0.585146          0  0.212403   \n",
       "3           3   0.645172          0.585146          0 -0.598624   \n",
       "4           4   0.645172          0.585146          0       NaN   \n",
       "\n",
       "   salary_currency  salary_in_usd  employee_residence  remote_ratio  \\\n",
       "0                9       0.485419                  33     -0.494994   \n",
       "1                9      -1.907805                  33     -0.494994   \n",
       "2                9       0.409431                  33     -0.494994   \n",
       "3                9            NaN                  33     -0.494994   \n",
       "4                3            NaN                  22     -0.494994   \n",
       "\n",
       "   company_size  is_large_company  \n",
       "0             1         -0.139407  \n",
       "1             1         -0.139407  \n",
       "2             1         -0.139407  \n",
       "3             1         -0.139407  \n",
       "4             1         -0.139407  "
      ]
     },
     "execution_count": 21,
     "metadata": {},
     "output_type": "execute_result"
    }
   ],
   "source": [
    "df.head()"
   ]
  },
  {
   "cell_type": "code",
   "execution_count": 22,
   "id": "f3be9281",
   "metadata": {},
   "outputs": [],
   "source": [
    "import pandas as pd\n",
    "from sklearn.model_selection import train_test_split\n",
    "from sklearn.metrics import mean_squared_error, r2_score, mean_absolute_error\n",
    "from sklearn.linear_model import LinearRegression\n",
    "from sklearn.tree import DecisionTreeRegressor\n",
    "from sklearn.svm import SVR\n",
    "from sklearn.neighbors import KNeighborsRegressor\n",
    "import xgboost as xgb"
   ]
  },
  {
   "cell_type": "code",
   "execution_count": 23,
   "id": "bc739bea",
   "metadata": {},
   "outputs": [
    {
     "name": "stdout",
     "output_type": "stream",
     "text": [
      "Train set NaN: 0\n",
      "Test set NaN: 0\n"
     ]
    }
   ],
   "source": [
    "import pandas as pd\n",
    "from sklearn.impute import SimpleImputer\n",
    "\n",
    "X = df.drop(columns=[\"salary\"])\n",
    "y = df[\"salary\"]\n",
    "\n",
    "# Raqamli ustunlar va kategorik ustunlarni ajratish\n",
    "numeric_cols = X.select_dtypes(include=['int64', 'float64']).columns\n",
    "categorical_cols = X.select_dtypes(include=['object', 'category']).columns\n",
    "\n",
    "# 1. Raqamli ustunlar uchun median bilan to‘ldirish\n",
    "imputer_num = SimpleImputer(strategy=\"median\")\n",
    "X[numeric_cols] = imputer_num.fit_transform(X[numeric_cols])\n",
    "\n",
    "# 2. Kategorik ustunlar uchun eng ko‘p uchraydigan qiymat bilan to‘ldirish (agar mavjud bo‘lsa)\n",
    "if len(categorical_cols) > 0:\n",
    "    imputer_cat = SimpleImputer(strategy=\"most_frequent\")\n",
    "    X[categorical_cols] = imputer_cat.fit_transform(X[categorical_cols])\n",
    "\n",
    "# Train-test bo‘lish\n",
    "from sklearn.model_selection import train_test_split\n",
    "X_train, X_test, y_train, y_test = train_test_split(X, y, test_size=0.2, random_state=42)\n",
    "\n",
    "# NaN bor-yo‘qligini tekshirish\n",
    "print(\"Train set NaN:\", X_train.isna().sum().sum())\n",
    "print(\"Test set NaN:\", X_test.isna().sum().sum())\n"
   ]
  },
  {
   "cell_type": "code",
   "execution_count": 24,
   "id": "20d80a7a",
   "metadata": {},
   "outputs": [
    {
     "data": {
      "text/html": [
       "<div>\n",
       "<style scoped>\n",
       "    .dataframe tbody tr th:only-of-type {\n",
       "        vertical-align: middle;\n",
       "    }\n",
       "\n",
       "    .dataframe tbody tr th {\n",
       "        vertical-align: top;\n",
       "    }\n",
       "\n",
       "    .dataframe thead th {\n",
       "        text-align: right;\n",
       "    }\n",
       "</style>\n",
       "<table border=\"1\" class=\"dataframe\">\n",
       "  <thead>\n",
       "    <tr style=\"text-align: right;\">\n",
       "      <th></th>\n",
       "      <th>Unnamed: 0</th>\n",
       "      <th>work_year</th>\n",
       "      <th>experience_level</th>\n",
       "      <th>job_title</th>\n",
       "      <th>salary</th>\n",
       "      <th>salary_currency</th>\n",
       "      <th>salary_in_usd</th>\n",
       "      <th>employee_residence</th>\n",
       "      <th>remote_ratio</th>\n",
       "      <th>company_size</th>\n",
       "      <th>is_large_company</th>\n",
       "    </tr>\n",
       "  </thead>\n",
       "  <tbody>\n",
       "    <tr>\n",
       "      <th>0</th>\n",
       "      <td>0</td>\n",
       "      <td>0.645172</td>\n",
       "      <td>0.585146</td>\n",
       "      <td>0</td>\n",
       "      <td>0.281258</td>\n",
       "      <td>9</td>\n",
       "      <td>0.485419</td>\n",
       "      <td>33</td>\n",
       "      <td>-0.494994</td>\n",
       "      <td>1</td>\n",
       "      <td>-0.139407</td>\n",
       "    </tr>\n",
       "    <tr>\n",
       "      <th>1</th>\n",
       "      <td>1</td>\n",
       "      <td>0.645172</td>\n",
       "      <td>0.585146</td>\n",
       "      <td>0</td>\n",
       "      <td>-0.261413</td>\n",
       "      <td>9</td>\n",
       "      <td>-1.907805</td>\n",
       "      <td>33</td>\n",
       "      <td>-0.494994</td>\n",
       "      <td>1</td>\n",
       "      <td>-0.139407</td>\n",
       "    </tr>\n",
       "    <tr>\n",
       "      <th>2</th>\n",
       "      <td>2</td>\n",
       "      <td>0.645172</td>\n",
       "      <td>0.585146</td>\n",
       "      <td>0</td>\n",
       "      <td>0.212403</td>\n",
       "      <td>9</td>\n",
       "      <td>0.409431</td>\n",
       "      <td>33</td>\n",
       "      <td>-0.494994</td>\n",
       "      <td>1</td>\n",
       "      <td>-0.139407</td>\n",
       "    </tr>\n",
       "    <tr>\n",
       "      <th>3</th>\n",
       "      <td>3</td>\n",
       "      <td>0.645172</td>\n",
       "      <td>0.585146</td>\n",
       "      <td>0</td>\n",
       "      <td>-0.598624</td>\n",
       "      <td>9</td>\n",
       "      <td>NaN</td>\n",
       "      <td>33</td>\n",
       "      <td>-0.494994</td>\n",
       "      <td>1</td>\n",
       "      <td>-0.139407</td>\n",
       "    </tr>\n",
       "    <tr>\n",
       "      <th>4</th>\n",
       "      <td>4</td>\n",
       "      <td>0.645172</td>\n",
       "      <td>0.585146</td>\n",
       "      <td>0</td>\n",
       "      <td>NaN</td>\n",
       "      <td>3</td>\n",
       "      <td>NaN</td>\n",
       "      <td>22</td>\n",
       "      <td>-0.494994</td>\n",
       "      <td>1</td>\n",
       "      <td>-0.139407</td>\n",
       "    </tr>\n",
       "  </tbody>\n",
       "</table>\n",
       "</div>"
      ],
      "text/plain": [
       "   Unnamed: 0  work_year  experience_level  job_title    salary  \\\n",
       "0           0   0.645172          0.585146          0  0.281258   \n",
       "1           1   0.645172          0.585146          0 -0.261413   \n",
       "2           2   0.645172          0.585146          0  0.212403   \n",
       "3           3   0.645172          0.585146          0 -0.598624   \n",
       "4           4   0.645172          0.585146          0       NaN   \n",
       "\n",
       "   salary_currency  salary_in_usd  employee_residence  remote_ratio  \\\n",
       "0                9       0.485419                  33     -0.494994   \n",
       "1                9      -1.907805                  33     -0.494994   \n",
       "2                9       0.409431                  33     -0.494994   \n",
       "3                9            NaN                  33     -0.494994   \n",
       "4                3            NaN                  22     -0.494994   \n",
       "\n",
       "   company_size  is_large_company  \n",
       "0             1         -0.139407  \n",
       "1             1         -0.139407  \n",
       "2             1         -0.139407  \n",
       "3             1         -0.139407  \n",
       "4             1         -0.139407  "
      ]
     },
     "execution_count": 24,
     "metadata": {},
     "output_type": "execute_result"
    }
   ],
   "source": [
    "df.head()"
   ]
  },
  {
   "cell_type": "markdown",
   "id": "58590940",
   "metadata": {},
   "source": [
    "# Linear Models (Chiziqli modellar)\n",
    "# LinearRegression"
   ]
  },
  {
   "cell_type": "code",
   "execution_count": 26,
   "id": "bb4a670e",
   "metadata": {},
   "outputs": [
    {
     "name": "stdout",
     "output_type": "stream",
     "text": [
      "LinearRegression\n",
      "MSE: 0.36522134196218675\n",
      "MAE: 0.40232677927739363\n",
      "R2: 0.06888421795732302\n"
     ]
    }
   ],
   "source": [
    "from sklearn.linear_model import LinearRegression\n",
    "from sklearn.metrics import mean_squared_error, mean_absolute_error, r2_score\n",
    "\n",
    "model = LinearRegression()\n",
    "model.fit(X_train, y_train)\n",
    "y_pred = model.predict(X_test)\n",
    "\n",
    "print(\"LinearRegression\")\n",
    "print(f\"MSE: {mean_squared_error(y_test, y_pred)}\")\n",
    "print(f\"MAE: {mean_absolute_error(y_test, y_pred)}\")\n",
    "print(f\"R2: {r2_score(y_test, y_pred)}\")\n"
   ]
  },
  {
   "cell_type": "markdown",
   "id": "50c164a3",
   "metadata": {},
   "source": [
    "# Tree-based Models (Daraxt asosidagi modellar)\n",
    "# DecisionTreeRegressor"
   ]
  },
  {
   "cell_type": "code",
   "execution_count": 27,
   "id": "897b83e6",
   "metadata": {},
   "outputs": [
    {
     "name": "stdout",
     "output_type": "stream",
     "text": [
      "DecisionTreeRegressor\n",
      "MSE: 0.22309374663912682\n",
      "MAE: 0.17615529722105286\n",
      "R2: 0.43123228436023775\n"
     ]
    }
   ],
   "source": [
    "from sklearn.tree import DecisionTreeRegressor\n",
    "\n",
    "model = DecisionTreeRegressor(random_state=42)\n",
    "model.fit(X_train, y_train)\n",
    "y_pred = model.predict(X_test)\n",
    "\n",
    "print(\"DecisionTreeRegressor\")\n",
    "print(f\"MSE: {mean_squared_error(y_test, y_pred)}\")\n",
    "print(f\"MAE: {mean_absolute_error(y_test, y_pred)}\")\n",
    "print(f\"R2: {r2_score(y_test, y_pred)}\")\n"
   ]
  },
  {
   "cell_type": "markdown",
   "id": "cd248978",
   "metadata": {},
   "source": [
    "# Support Vector Models\n",
    "# SVR"
   ]
  },
  {
   "cell_type": "code",
   "execution_count": 28,
   "id": "68295acf",
   "metadata": {},
   "outputs": [
    {
     "name": "stdout",
     "output_type": "stream",
     "text": [
      "SVR\n",
      "MSE: 0.4193063415472231\n",
      "MAE: 0.4023019417688343\n",
      "R2: -0.06900311473478715\n"
     ]
    }
   ],
   "source": [
    "from sklearn.svm import SVR\n",
    "\n",
    "model = SVR(C=1.0, epsilon=0.2)\n",
    "model.fit(X_train, y_train)\n",
    "y_pred = model.predict(X_test)\n",
    "\n",
    "print(\"SVR\")\n",
    "print(f\"MSE: {mean_squared_error(y_test, y_pred)}\")\n",
    "print(f\"MAE: {mean_absolute_error(y_test, y_pred)}\")\n",
    "print(f\"R2: {r2_score(y_test, y_pred)}\")\n"
   ]
  },
  {
   "cell_type": "markdown",
   "id": "a26b00be",
   "metadata": {},
   "source": [
    "# Ensemble Models\n",
    "# XGBRegressor"
   ]
  },
  {
   "cell_type": "code",
   "execution_count": 29,
   "id": "2373de61",
   "metadata": {},
   "outputs": [
    {
     "name": "stdout",
     "output_type": "stream",
     "text": [
      "XGBRegressor\n",
      "MSE: 0.13605253544577908\n",
      "MAE: 0.1486082154497184\n",
      "R2: 0.6531400321244054\n"
     ]
    }
   ],
   "source": [
    "import xgboost as xgb\n",
    "\n",
    "model = xgb.XGBRegressor(n_estimators=100, learning_rate=0.1, random_state=42)\n",
    "model.fit(X_train, y_train)\n",
    "y_pred = model.predict(X_test)\n",
    "\n",
    "print(\"XGBRegressor\")\n",
    "print(f\"MSE: {mean_squared_error(y_test, y_pred)}\")\n",
    "print(f\"MAE: {mean_absolute_error(y_test, y_pred)}\")\n",
    "print(f\"R2: {r2_score(y_test, y_pred)}\")\n"
   ]
  },
  {
   "cell_type": "markdown",
   "id": "46b1e989",
   "metadata": {},
   "source": [
    "# K-Nearest Neighbors\n",
    "# KNeighborsRegressor"
   ]
  },
  {
   "cell_type": "code",
   "execution_count": 30,
   "id": "2a2aad78",
   "metadata": {},
   "outputs": [
    {
     "name": "stdout",
     "output_type": "stream",
     "text": [
      "KNeighborsRegressor\n",
      "MSE: 0.42022423149665666\n",
      "MAE: 0.44898162965425575\n",
      "R2: -0.07134323487536887\n"
     ]
    }
   ],
   "source": [
    "from sklearn.neighbors import KNeighborsRegressor\n",
    "\n",
    "model = KNeighborsRegressor(n_neighbors=5)\n",
    "model.fit(X_train, y_train)\n",
    "y_pred = model.predict(X_test)\n",
    "\n",
    "print(\"KNeighborsRegressor\")\n",
    "print(f\"MSE: {mean_squared_error(y_test, y_pred)}\")\n",
    "print(f\"MAE: {mean_absolute_error(y_test, y_pred)}\")\n",
    "print(f\"R2: {r2_score(y_test, y_pred)}\")\n"
   ]
  },
  {
   "cell_type": "code",
   "execution_count": 31,
   "id": "493c4834",
   "metadata": {},
   "outputs": [
    {
     "data": {
      "image/png": "[encoded data removed]",
      "text/plain": [
       "<Figure size 1600x1200 with 3 Axes>"
      ]
     },
     "metadata": {},
     "output_type": "display_data"
    },
    {
     "name": "stdout",
     "output_type": "stream",
     "text": [
      "\n",
      "📋 Modellar Natijalari:\n"
     ]
    },
    {
     "data": {
      "text/html": [
       "<div>\n",
       "<style scoped>\n",
       "    .dataframe tbody tr th:only-of-type {\n",
       "        vertical-align: middle;\n",
       "    }\n",
       "\n",
       "    .dataframe tbody tr th {\n",
       "        vertical-align: top;\n",
       "    }\n",
       "\n",
       "    .dataframe thead th {\n",
       "        text-align: right;\n",
       "    }\n",
       "</style>\n",
       "<table border=\"1\" class=\"dataframe\">\n",
       "  <thead>\n",
       "    <tr style=\"text-align: right;\">\n",
       "      <th></th>\n",
       "      <th>Model</th>\n",
       "      <th>MSE</th>\n",
       "      <th>MAE</th>\n",
       "      <th>R2</th>\n",
       "    </tr>\n",
       "  </thead>\n",
       "  <tbody>\n",
       "    <tr>\n",
       "      <th>0</th>\n",
       "      <td>LinearRegression</td>\n",
       "      <td>0.365221</td>\n",
       "      <td>0.402327</td>\n",
       "      <td>0.068884</td>\n",
       "    </tr>\n",
       "    <tr>\n",
       "      <th>1</th>\n",
       "      <td>DecisionTreeRegressor</td>\n",
       "      <td>0.223094</td>\n",
       "      <td>0.176155</td>\n",
       "      <td>0.431232</td>\n",
       "    </tr>\n",
       "    <tr>\n",
       "      <th>2</th>\n",
       "      <td>SVR</td>\n",
       "      <td>0.419306</td>\n",
       "      <td>0.402302</td>\n",
       "      <td>-0.069003</td>\n",
       "    </tr>\n",
       "    <tr>\n",
       "      <th>3</th>\n",
       "      <td>XGBRegressor</td>\n",
       "      <td>0.136053</td>\n",
       "      <td>0.148608</td>\n",
       "      <td>0.653140</td>\n",
       "    </tr>\n",
       "    <tr>\n",
       "      <th>4</th>\n",
       "      <td>KNeighborsRegressor</td>\n",
       "      <td>0.420224</td>\n",
       "      <td>0.448982</td>\n",
       "      <td>-0.071343</td>\n",
       "    </tr>\n",
       "  </tbody>\n",
       "</table>\n",
       "</div>"
      ],
      "text/plain": [
       "                   Model       MSE       MAE        R2\n",
       "0       LinearRegression  0.365221  0.402327  0.068884\n",
       "1  DecisionTreeRegressor  0.223094  0.176155  0.431232\n",
       "2                    SVR  0.419306  0.402302 -0.069003\n",
       "3           XGBRegressor  0.136053  0.148608  0.653140\n",
       "4    KNeighborsRegressor  0.420224  0.448982 -0.071343"
      ]
     },
     "metadata": {},
     "output_type": "display_data"
    }
   ],
   "source": [
    "import pandas as pd\n",
    "import matplotlib.pyplot as plt\n",
    "import seaborn as sns\n",
    "\n",
    "# Natijalarni DataFramega joylash\n",
    "results_df = pd.DataFrame({\n",
    "    \"Model\": [\"LinearRegression\", \"DecisionTreeRegressor\", \"SVR\", \"XGBRegressor\", \"KNeighborsRegressor\"],\n",
    "    \"MSE\": [0.36522134196218675, 0.22309374663912682, 0.4193063415472231, 0.13605253544577908, 0.42022423149665666],\n",
    "    \"MAE\": [0.40232677927739363, 0.17615529722105286, 0.4023019417688343, 0.1486082154497184, 0.44898162965425575],\n",
    "    \"R2\": [0.06888421795732302, 0.43123228436023775, -0.06900311473478715, 0.6531400321244054, -0.07134323487536887]\n",
    "})\n",
    "\n",
    "# Grafik o'lchamlari\n",
    "plt.figure(figsize=(16, 12))\n",
    "\n",
    "# 1. R² bar chart\n",
    "plt.subplot(3, 1, 1)\n",
    "sns.barplot(x=\"R2\", y=\"Model\", data=results_df, palette=\"viridis\")\n",
    "plt.title(\"Model R² Scores\", fontsize=16)\n",
    "plt.xlabel(\"R²\")\n",
    "plt.ylabel(\"Model\")\n",
    "\n",
    "# 2. MSE bar chart\n",
    "plt.subplot(3, 1, 2)\n",
    "sns.barplot(x=\"MSE\", y=\"Model\", data=results_df, palette=\"coolwarm\")\n",
    "plt.title(\"Model Mean Squared Error (MSE)\", fontsize=16)\n",
    "plt.xlabel(\"MSE\")\n",
    "plt.ylabel(\"Model\")\n",
    "\n",
    "# 3. MAE bar chart\n",
    "plt.subplot(3, 1, 3)\n",
    "sns.barplot(x=\"MAE\", y=\"Model\", data=results_df, palette=\"magma\")\n",
    "plt.title(\"Model Mean Absolute Error (MAE)\", fontsize=16)\n",
    "plt.xlabel(\"MAE\")\n",
    "plt.ylabel(\"Model\")\n",
    "\n",
    "plt.tight_layout()\n",
    "plt.show()\n",
    "\n",
    "# Jadval ko'rinishi\n",
    "print(\"\\n📋 Modellar Natijalari:\")\n",
    "display(results_df)\n"
   ]
  },
  {
   "cell_type": "markdown",
   "id": "c2c1110b",
   "metadata": {},
   "source": [
    "## 📊 Tahlil\n",
    "\n",
    "- **R²** balining yuqoriroq bo‘lishi modelning yaxshiroq tushuntirish quvvatiga ega ekanligini ko‘rsatadi.  \n",
    "- **MSE** (Mean Squared Error) va **MAE** (Mean Absolute Error) past bo‘lishi modelning aniqroq ekanini bildiradi.  \n",
    "\n",
    "### Eng yaxshi natijalar:\n",
    "- **XGBRegressor** modeli:  \n",
    "  - **R² = 0.653** → ya’ni model ma’lumotlarning ~65% variance’ini tushuntiradi.  \n",
    "  - **MSE = 0.136** → eng kichik xato.  \n",
    "  - **MAE = 0.148** → eng past o‘rtacha xato.\n",
    "\n",
    "✅ **Xulosa:** Eng yaxshi model — **XGBRegressor**.  \n",
    "Bu modelning yuqori R² va past xato ko‘rsatkichlari uni eng samarali qiladi.\n"
   ]
  },
  {
   "cell_type": "markdown",
   "id": "299b7f87",
   "metadata": {},
   "source": [
    "# Cross-Validation"
   ]
  },
  {
   "cell_type": "code",
   "execution_count": 32,
   "id": "a9fe008d",
   "metadata": {},
   "outputs": [
    {
     "name": "stdout",
     "output_type": "stream",
     "text": [
      "Cross-validation R² scores: [0.6203965  0.69156172 0.6295734  0.63116171 0.5832743 ]\n",
      "O'rtacha R²: 0.6311935260082413\n",
      "Standard deviation: 0.034813135904580066\n"
     ]
    }
   ],
   "source": [
    "from sklearn.model_selection import cross_val_score\n",
    "import numpy as np\n",
    "\n",
    "# XGBRegressor tanlab olinadi\n",
    "model = xgb.XGBRegressor(n_estimators=100, learning_rate=0.1, random_state=42)\n",
    "\n",
    "# 5-fold cross-validation\n",
    "cv_scores = cross_val_score(model, X, y, cv=5, scoring=\"r2\")\n",
    "\n",
    "print(\"Cross-validation R² scores:\", cv_scores)\n",
    "print(\"O'rtacha R²:\", np.mean(cv_scores))\n",
    "print(\"Standard deviation:\", np.std(cv_scores))\n"
   ]
  },
  {
   "cell_type": "code",
   "execution_count": 34,
   "id": "97542761",
   "metadata": {},
   "outputs": [
    {
     "name": "stdout",
     "output_type": "stream",
     "text": [
      "\n",
      "📋 R² Natijalar:\n"
     ]
    },
    {
     "data": {
      "text/html": [
       "<div>\n",
       "<style scoped>\n",
       "    .dataframe tbody tr th:only-of-type {\n",
       "        vertical-align: middle;\n",
       "    }\n",
       "\n",
       "    .dataframe tbody tr th {\n",
       "        vertical-align: top;\n",
       "    }\n",
       "\n",
       "    .dataframe thead th {\n",
       "        text-align: right;\n",
       "    }\n",
       "</style>\n",
       "<table border=\"1\" class=\"dataframe\">\n",
       "  <thead>\n",
       "    <tr style=\"text-align: right;\">\n",
       "      <th></th>\n",
       "      <th>Model</th>\n",
       "      <th>R2</th>\n",
       "    </tr>\n",
       "  </thead>\n",
       "  <tbody>\n",
       "    <tr>\n",
       "      <th>0</th>\n",
       "      <td>Test Set</td>\n",
       "      <td>0.653140</td>\n",
       "    </tr>\n",
       "    <tr>\n",
       "      <th>1</th>\n",
       "      <td>Cross-Validation</td>\n",
       "      <td>0.631194</td>\n",
       "    </tr>\n",
       "  </tbody>\n",
       "</table>\n",
       "</div>"
      ],
      "text/plain": [
       "              Model        R2\n",
       "0          Test Set  0.653140\n",
       "1  Cross-Validation  0.631194"
      ]
     },
     "metadata": {},
     "output_type": "display_data"
    },
    {
     "data": {
      "image/png": "[encoded data removed]",
      "text/plain": [
       "<Figure size 600x400 with 1 Axes>"
      ]
     },
     "metadata": {},
     "output_type": "display_data"
    }
   ],
   "source": [
    "import pandas as pd\n",
    "import matplotlib.pyplot as plt\n",
    "import seaborn as sns\n",
    "\n",
    "# Natijalarni yaratish\n",
    "r2_results = pd.DataFrame({\n",
    "    \"Model\": [\"Test Set\", \"Cross-Validation\"],\n",
    "    \"R2\": [0.653140, 0.631194]\n",
    "})\n",
    "\n",
    "# Jadval ko‘rinishi\n",
    "print(\"\\n📋 R² Natijalar:\")\n",
    "display(r2_results)\n",
    "\n",
    "# Bar chart\n",
    "plt.figure(figsize=(6, 4))\n",
    "sns.barplot(x=\"Model\", y=\"R2\", data=r2_results, palette=\"viridis\")\n",
    "\n",
    "# Annotatsiya qo‘shish\n",
    "for i, v in enumerate(r2_results[\"R2\"]):\n",
    "    plt.text(i, v + 0.005, f\"{v:.3f}\", ha=\"center\", fontsize=12)\n",
    "\n",
    "plt.title(\"XGBRegressor: Test Set vs Cross-Validation R²\", fontsize=14)\n",
    "plt.ylim(0, max(r2_results[\"R2\"]) + 0.05)\n",
    "plt.ylabel(\"R² Score\")\n",
    "plt.show()\n"
   ]
  },
  {
   "cell_type": "code",
   "execution_count": 35,
   "id": "14945f09",
   "metadata": {},
   "outputs": [
    {
     "name": "stdout",
     "output_type": "stream",
     "text": [
      "✅ XGBRegressor modeli 'C:\\Users\\Rasulbek_Ruzmetov\\Desktop\\SML_R_Project\\Models\\xgb_model.pkl' fayliga saqlandi.\n"
     ]
    }
   ],
   "source": [
    "import xgboost as xgb\n",
    "import joblib\n",
    "import os\n",
    "\n",
    "# Model yaratish\n",
    "model = xgb.XGBRegressor(n_estimators=100, learning_rate=0.1, random_state=42)\n",
    "\n",
    "# Modelni o‘rgatish\n",
    "model.fit(X_train, y_train)\n",
    "\n",
    "# Saqlash manzili\n",
    "model_path = r\"C:\\Users\\Rasulbek_Ruzmetov\\Desktop\\SML_R_Project\\Models\\xgb_model.pkl\"\n",
    "\n",
    "# Agar papka mavjud bo‘lmasa, yaratish\n",
    "os.makedirs(os.path.dirname(model_path), exist_ok=True)\n",
    "\n",
    "# Modelni saqlash\n",
    "joblib.dump(model, model_path)\n",
    "print(f\"✅ XGBRegressor modeli '{model_path}' fayliga saqlandi.\")\n"
   ]
  },
  {
   "cell_type": "code",
   "execution_count": null,
   "id": "57e28bb0",
   "metadata": {},
   "outputs": [],
   "source": []
  }
 ],
 "metadata": {
  "kernelspec": {
   "display_name": "myvenv",
   "language": "python",
   "name": "python3"
  },
  "language_info": {
   "codemirror_mode": {
    "name": "ipython",
    "version": 3
   },
   "file_extension": ".py",
   "mimetype": "text/x-python",
   "name": "python",
   "nbconvert_exporter": "python",
   "pygments_lexer": "ipython3",
   "version": "3.13.3"
  }
 },
 "nbformat": 4,
 "nbformat_minor": 5
}
