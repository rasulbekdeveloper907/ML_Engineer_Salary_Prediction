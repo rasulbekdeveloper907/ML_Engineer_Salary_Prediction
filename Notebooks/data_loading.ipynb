{
 "cells": [
  {
   "cell_type": "code",
   "execution_count": null,
   "id": "cd908621",
   "metadata": {},
   "outputs": [],
   "source": [
    "import pandas as pd\n",
    "import logging\n",
    "import os\n",
    "\n",
    "def load_csv(file_path, log_path):\n",
    "    \"\"\"\n",
    "    CSV faylini o'qiydi va log qiladi.\n",
    "\n",
    "    Args:\n",
    "        file_path (str): CSV fayl yo'li\n",
    "        log_path (str): log fayl yo'li\n",
    "\n",
    "    Returns:\n",
    "        pd.DataFrame yoki None\n",
    "    \"\"\"\n",
    "    os.makedirs(os.path.dirname(log_path), exist_ok=True)\n",
    "    logging.basicConfig(\n",
    "        filename=log_path,\n",
    "        level=logging.INFO,\n",
    "        format=\"%(asctime)s - %(levelname)s - %(message)s\",\n",
    "        filemode=\"a\"\n",
    "    )\n",
    "\n",
    "    try:\n",
    "        logging.info(f\"{file_path} faylini o'qish boshlandi.\")\n",
    "        df = pd.read_csv(file_path)\n",
    "        logging.info(f\"{file_path} muvaffaqiyatli o'qildi: {df.shape} o'lchamda.\")\n",
    "        return df\n",
    "    except FileNotFoundError as e:\n",
    "        logging.error(f\"Fayl topilmadi: {e}\")\n",
    "    except Exception as e:\n",
    "        logging.error(f\"Noma’lum xatolik yuz berdi: {e}\")\n",
    "    return None\n"
   ]
  },
  {
   "cell_type": "code",
   "execution_count": null,
   "id": "a8c42764",
   "metadata": {},
   "outputs": [],
   "source": [
    "def load_excel(file_path, sheet_name, log_path):\n",
    "    os.makedirs(os.path.dirname(log_path), exist_ok=True)\n",
    "    logging.basicConfig(\n",
    "        filename=log_path,\n",
    "        level=logging.INFO,\n",
    "        format=\"%(asctime)s - %(levelname)s - %(message)s\",\n",
    "        filemode=\"a\"\n",
    "    )\n",
    "\n",
    "    try:\n",
    "        logging.info(f\"{file_path} Excel faylini o'qish boshlandi.\")\n",
    "        df = pd.read_excel(file_path, sheet_name=sheet_name)\n",
    "        logging.info(f\"{file_path} muvaffaqiyatli o'qildi: {df.shape} o'lchamda.\")\n",
    "        return df\n",
    "    except FileNotFoundError as e:\n",
    "        logging.error(f\"Fayl topilmadi: {e}\")\n",
    "    except Exception as e:\n",
    "        logging.error(f\"Noma’lum xatolik yuz berdi: {e}\")\n",
    "    return None\n"
   ]
  },
  {
   "cell_type": "code",
   "execution_count": null,
   "id": "d2ed1c82",
   "metadata": {},
   "outputs": [],
   "source": [
    "def check_file_exists(file_path):\n",
    "    return os.path.exists(file_path)\n"
   ]
  },
  {
   "cell_type": "code",
   "execution_count": null,
   "id": "57c2efb6",
   "metadata": {},
   "outputs": [],
   "source": [
    "def load_multiple_csv(file_paths, log_path):\n",
    "    dataframes = []\n",
    "    for path in file_paths:\n",
    "        df = load_csv(path, log_path)\n",
    "        if df is not None:\n",
    "            dataframes.append(df)\n",
    "    return dataframes\n"
   ]
  }
 ],
 "metadata": {
  "language_info": {
   "name": "python"
  }
 },
 "nbformat": 4,
 "nbformat_minor": 5
}
